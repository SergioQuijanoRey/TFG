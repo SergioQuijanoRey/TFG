{
 "cells": [
  {
   "cell_type": "code",
   "execution_count": null,
   "id": "e57edb8e-ab78-46d2-a52b-44ca96aea7f6",
   "metadata": {
    "tags": []
   },
   "outputs": [],
   "source": [
    "import pandas as pd\n",
    "import matplotlib.pyplot as plt"
   ]
  },
  {
   "cell_type": "markdown",
   "id": "66c84835-e665-4e7a-8b8b-d297222a0bc4",
   "metadata": {},
   "source": [
    "# One plot per dataset"
   ]
  },
  {
   "cell_type": "code",
   "execution_count": null,
   "id": "ebf73241-d7d6-41b1-935e-56f6ef09d2ed",
   "metadata": {
    "tags": []
   },
   "outputs": [],
   "source": [
    "SCOPUS_FILE = \"segundo_scopus.csv\"\n",
    "df = pd.read_csv(SCOPUS_FILE)"
   ]
  },
  {
   "cell_type": "code",
   "execution_count": null,
   "id": "241fc85b-206d-494e-a7e4-c3872776754b",
   "metadata": {
    "tags": []
   },
   "outputs": [],
   "source": [
    "# Set higher DPI values\n",
    "%config InlineBackend.figure_format = 'retina'  # 'retina' or 'png2x'"
   ]
  },
  {
   "cell_type": "code",
   "execution_count": null,
   "id": "db82e99a-88fd-4735-9e68-c3e3468b290a",
   "metadata": {
    "tags": []
   },
   "outputs": [],
   "source": [
    "# Plotting the histogram\n",
    "plt.plot(df['YEAR'], df['Number of papers'], marker='o', linestyle='-')\n",
    "\n",
    "# Set x-axis ticks to every two years\n",
    "min_year = df['YEAR'].min()\n",
    "max_year = df['YEAR'].max()\n",
    "years_range = range(min_year, max_year + 1, 2)\n",
    "plt.xticks(years_range, rotation=45, ha='right')  # Adjust rotation angle as needed\n",
    "\n",
    "# Set times new roman\n",
    "font = {\n",
    "    'fontname': 'serif',\n",
    "    'fontsize': 14,\n",
    "}\n",
    "\n",
    "# Labels and title\n",
    "plt.xlabel('Year', **font)\n",
    "plt.ylabel('Number of publications', **font)\n",
    "plt.title('Number of publications per Year', **font)\n",
    "\n",
    "# Display the plot\n",
    "plt.show()"
   ]
  },
  {
   "cell_type": "markdown",
   "id": "677edb8c-adc3-405d-8434-a391ab800328",
   "metadata": {},
   "source": [
    "# Two dataset plotted together"
   ]
  },
  {
   "cell_type": "code",
   "execution_count": null,
   "id": "7b7b8df1-da50-4798-8d5e-1c920fd61efa",
   "metadata": {
    "tags": []
   },
   "outputs": [],
   "source": [
    "# Load the dataframes\n",
    "df_first = pd.read_csv(\"primer_scopus.csv\")\n",
    "df_second = pd.read_csv(\"segundo_scopus.csv\")\n",
    "\n",
    "plt.figure(figsize = (15, 5))\n",
    "plt.plot(df_first[\"YEAR\"], df_first[\"Number of papers\"], marker = \"o\", label = \"First search\")\n",
    "plt.plot(df_second[\"YEAR\"], df_second[\"Number of papers\"], marker = \"x\", label = \"Second search\")\n",
    "\n",
    "\n",
    "# Set times new roman\n",
    "font = {\n",
    "    'fontname': 'serif',\n",
    "    'fontsize': 14,\n",
    "}\n",
    "\n",
    "# Labels and title\n",
    "plt.xlabel('Year', **font)\n",
    "plt.ylabel('Number of publications', **font)\n",
    "plt.title('Number of publications per Year', **font)\n",
    "plt.legend()\n",
    "\n",
    "# Display the plot\n",
    "plt.savefig(\"scopus_search_together.png\")\n",
    "plt.show()"
   ]
  }
 ],
 "metadata": {
  "kernelspec": {
   "display_name": "Python 3 (ipykernel)",
   "language": "python",
   "name": "python3"
  },
  "language_info": {
   "codemirror_mode": {
    "name": "ipython",
    "version": 3
   },
   "file_extension": ".py",
   "mimetype": "text/x-python",
   "name": "python",
   "nbconvert_exporter": "python",
   "pygments_lexer": "ipython3",
   "version": "3.10.12"
  }
 },
 "nbformat": 4,
 "nbformat_minor": 5
}
