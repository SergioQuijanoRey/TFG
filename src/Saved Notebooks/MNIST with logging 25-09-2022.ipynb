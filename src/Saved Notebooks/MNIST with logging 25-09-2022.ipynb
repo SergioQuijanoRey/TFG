{
  "cells": [
    {
      "cell_type": "markdown",
      "id": "58b07228",
      "metadata": {
        "id": "58b07228"
      },
      "source": [
        "\n",
        "# Global Parameters of the Notebook"
      ]
    },
    {
      "cell_type": "markdown",
      "id": "f955a4a9-088e-43ea-820e-05846a99463f",
      "metadata": {
        "id": "f955a4a9-088e-43ea-820e-05846a99463f"
      },
      "source": [
        "## Paths\n",
        "\n",
        "- Parameters related to data / model / lib paths"
      ]
    },
    {
      "cell_type": "code",
      "execution_count": 1,
      "id": "51aad6c9-1243-4de4-b799-e0a9ab8e7149",
      "metadata": {
        "id": "51aad6c9-1243-4de4-b799-e0a9ab8e7149"
      },
      "outputs": [],
      "source": [
        "# Lib to define paths\n",
        "import os\n",
        "\n",
        "# Define if we are running the notebook in our computer (\"local\")\n",
        "# or in Google Colab (\"remote\")\n",
        "RUNNING_ENV = \"remote\"\n",
        "\n",
        "# Base path for the rest of paths defined in the notebook\n",
        "BASE_PATH = \"./\" if RUNNING_ENV == \"local\" else \"/content/drive/MyDrive/Colab Notebooks/\"\n",
        "\n",
        "# Path to our lib dir\n",
        "LIB_PATH = os.path.join(BASE_PATH, \"lib\")\n",
        "\n",
        "# Path where we store training / test data\n",
        "DATA_PATH = os.path.join(BASE_PATH, \"data\")\n",
        "\n",
        "# Dir with all cached models \n",
        "# This cached models can be loaded from disk when training is skipped\n",
        "MODEL_CACHE_FOLDER = os.path.join(BASE_PATH, \"cached_models\")\n",
        "\n",
        "# File where the logs are written\n",
        "LOGGING_FILE = os.path.join(BASE_PATH, \"training.log\")"
      ]
    },
    {
      "cell_type": "markdown",
      "id": "8c97a39c-0f5a-4ad7-b2b6-6d6ac3d9ea28",
      "metadata": {
        "id": "8c97a39c-0f5a-4ad7-b2b6-6d6ac3d9ea28"
      },
      "source": [
        "## ML parameters\n",
        "\n",
        "- Parameters related to machine learning\n",
        "- For example, batch sizes, learning rates, ..."
      ]
    },
    {
      "cell_type": "markdown",
      "id": "f3866d08-878f-4463-a59e-b07eb32060ee",
      "metadata": {
        "id": "f3866d08-878f-4463-a59e-b07eb32060ee"
      },
      "source": [
        "### Offline parameters\n",
        "\n",
        "- Parameters related to offline training using random triplets"
      ]
    },
    {
      "cell_type": "code",
      "execution_count": 2,
      "id": "f68ef20d-336f-40d4-9ba4-43fa43358aae",
      "metadata": {
        "id": "f68ef20d-336f-40d4-9ba4-43fa43358aae"
      },
      "outputs": [],
      "source": [
        "# Batch size for offline training\n",
        "OFFLINE_BATCH_SIZE = 32\n",
        "\n",
        "# Size of random triplets sets\n",
        "# It has to be a multiple of `OFFLINE_BATCH_SIZE`, so the network\n",
        "# has batches of proper size\n",
        "RANDOM_TRIPLETS_DATA_SIZE = OFFLINE_BATCH_SIZE * 15\n",
        "\n",
        "# Training epochs for the random triplets model\n",
        "TRAINING_EPOCHS_RANDOM = 10\n",
        "\n",
        "# Learning rate for random triplets model\n",
        "RANDOM_TRIPLET_LEARNING_RATE = 0.001\n",
        "\n",
        "# How many single elements we want to see before logging \n",
        "# It has to be a multiple of `OFFLINE_BATCH_SIZE`, otherwise `should_log` would \n",
        "# return always false\n",
        "OFFLINE_LOGGING_ITERATIONS = OFFLINE_BATCH_SIZE * 5"
      ]
    },
    {
      "cell_type": "markdown",
      "id": "b3246c70-bfbb-4bab-b3d7-b8133352f4f0",
      "metadata": {
        "id": "b3246c70-bfbb-4bab-b3d7-b8133352f4f0"
      },
      "source": [
        "### Online parameters \n",
        "\n",
        "- Parameters related to online training, using P-K sampling"
      ]
    },
    {
      "cell_type": "code",
      "execution_count": 3,
      "id": "021a8a47-2dbb-4ef7-8045-496ff228a4ab",
      "metadata": {
        "id": "021a8a47-2dbb-4ef7-8045-496ff228a4ab"
      },
      "outputs": [],
      "source": [
        "# Parameters of P-K sampling\n",
        "P = 3   # Number of classes used in each minibatch\n",
        "K = 32  # Number of images sampled for each selected class\n",
        "\n",
        "# Batch size for online training \n",
        "# We can use `P * K` as batch size. Thus, minibatches will be\n",
        "# as we expect in P-K sampling. \n",
        "# \n",
        "# But we can use `n * P * K`. Thus, minibatches will be n P-K sampling\n",
        "# minibatche concatenated together\n",
        "# Be careful when doing this because it can be really slow, and there is no\n",
        "# clear reason to do this\n",
        "ONLINE_BATCH_SIZE = P * K\n",
        "\n",
        "# Epochs for hard triplets, online training \n",
        "TRAINING_EPOCHS = 1\n",
        "\n",
        "# Learning rate for hard triplets, online training\n",
        "ONLINE_LEARNING_RATE = 0.1\n",
        "\n",
        "# How many single elements we want to see before logging \n",
        "# It has to be a multiple of P * K, otherwise `should_log` would return always \n",
        "# false as `it % LOGGING_ITERATIONS != 0` always\n",
        "#\n",
        "# `LOGGING_ITERATIONS = P * K * n` means we log after seeing `n` P-K sampled\n",
        "# minibatches\n",
        "LOGGING_ITERATIONS = P * K * 20\n",
        "\n",
        "# Which percentage of the training and validation set we want to use for the logging\n",
        "ONLINE_LOGGER_TRAIN_PERCENTAGE = 0.01\n",
        "ONLINE_LOGGER_VALIDATION_PERCENTAGE = 0.01"
      ]
    },
    {
      "cell_type": "markdown",
      "id": "bc5bf682-338c-4a48-aa4c-e08569e18d65",
      "metadata": {
        "id": "bc5bf682-338c-4a48-aa4c-e08569e18d65"
      },
      "source": [
        "### Shared parameters\n",
        "\n",
        "- Parameters used in both offline and online training\n",
        "- Or parameters that has nothing to do with that"
      ]
    },
    {
      "cell_type": "code",
      "execution_count": 4,
      "id": "f22f9c1b-4c60-4580-8252-30b5d44e3585",
      "metadata": {
        "id": "f22f9c1b-4c60-4580-8252-30b5d44e3585"
      },
      "outputs": [],
      "source": [
        "# Epochs used in k-Fold Cross validation \n",
        "# k-Fold Cross validation used for parameter exploration\n",
        "HYPERPARAMETER_TUNING_EPOCHS = 7\n",
        "\n",
        "# Number of folds used in k-fold Cross Validation\n",
        "NUMBER_OF_FOLDS = 4\n",
        "\n",
        "# Margin used in the loss function\n",
        "MARGIN = 10.0\n",
        "\n",
        "# Dim of the embedding calculated by the network\n",
        "EMBEDDING_DIMENSION = 3\n",
        "\n",
        "# Number of neighbours considered in K-NN\n",
        "# K-NN used for transforming embedding task to classification task \n",
        "NUMBER_NEIGHBOURS = 3\n",
        "\n",
        "# Batch Triplet Loss Function\n",
        "# This way we can choose among \"hard\", \"all\"\n",
        "BATCH_TRIPLET_LOSS_FUNCTION = \"all\"\n",
        "\n",
        "# Wether or not use softplus loss function instead of vanilla triplet loss\n",
        "USE_SOFTPLUS_LOSS = False\n",
        "\n",
        "# Count all sumamnds in the mean loss or only those summands greater than zero\n",
        "USE_GT_ZERO_MEAN_LOSS = True"
      ]
    },
    {
      "cell_type": "markdown",
      "id": "066f9a63-cc85-4203-bd4e-29d49eb64339",
      "metadata": {
        "id": "066f9a63-cc85-4203-bd4e-29d49eb64339"
      },
      "source": [
        "## Section parameters\n",
        "\n",
        "- Flags to choose if some sections will run or not\n",
        "- This way we can skip some heavy computations when not needed "
      ]
    },
    {
      "cell_type": "code",
      "execution_count": 5,
      "id": "40ef107c-a812-4abb-97d2-8d375cd0e685",
      "metadata": {
        "id": "40ef107c-a812-4abb-97d2-8d375cd0e685"
      },
      "outputs": [],
      "source": [
        "# Skip the training using random triplets \n",
        "SKIP_RANDOM_TRIPLETS_TRAINING = True\n",
        "\n",
        "# Skip hyper parameter tuning for online training\n",
        "SKIP_HYPERPARAMTER_TUNING = True\n",
        "\n",
        "# Skip training and use a cached model\n",
        "# Useful for testing the embedding -> classifier transformation\n",
        "# Thus, when False training is not computed and a cached model\n",
        "# is loaded from disk\n",
        "# Cached models are stored in `MODEL_CACHE_FOLDER`\n",
        "USE_CACHED_MODEL = False"
      ]
    },
    {
      "cell_type": "markdown",
      "id": "f109c94c-8595-49d2-a328-9ef9233adf27",
      "metadata": {
        "id": "f109c94c-8595-49d2-a328-9ef9233adf27"
      },
      "source": [
        "## Others"
      ]
    },
    {
      "cell_type": "code",
      "execution_count": 6,
      "id": "f735abd1",
      "metadata": {
        "id": "f735abd1"
      },
      "outputs": [],
      "source": [
        "# Number of workers we want to use \n",
        "# We can have less, equal or greater num of workers than CPUs\n",
        "# In the following forum:\n",
        "#   https://discuss.pytorch.org/t/guidelines-for-assigning-num-workers-to-dataloader/813/4\n",
        "# they recomend to explore this parameter, growing it until system RAM saturates\n",
        "NUM_WORKERS = 8\n",
        "\n",
        "# Fix random seed to make reproducible results\n",
        "RANDOM_SEED = 123456789"
      ]
    },
    {
      "cell_type": "markdown",
      "id": "01a1a0d0",
      "metadata": {
        "id": "01a1a0d0"
      },
      "source": [
        "# Auth forGoogle Drive"
      ]
    },
    {
      "cell_type": "code",
      "execution_count": 7,
      "id": "b1264a2a",
      "metadata": {
        "id": "b1264a2a",
        "colab": {
          "base_uri": "https://localhost:8080/"
        },
        "outputId": "cc3f9740-28f9-44b9-dfa3-86b1a95b3b8a"
      },
      "outputs": [
        {
          "output_type": "stream",
          "name": "stdout",
          "text": [
            "Drive already mounted at /content/drive; to attempt to forcibly remount, call drive.mount(\"/content/drive\", force_remount=True).\n"
          ]
        }
      ],
      "source": [
        "if RUNNING_ENV == \"remote\":\n",
        "    from google.colab import drive\n",
        "    drive.mount('/content/drive')"
      ]
    },
    {
      "cell_type": "markdown",
      "id": "d1327dec",
      "metadata": {
        "id": "d1327dec"
      },
      "source": [
        "# Importing the modules we are going to use"
      ]
    },
    {
      "cell_type": "code",
      "execution_count": 8,
      "id": "fc75086e",
      "metadata": {
        "id": "fc75086e"
      },
      "outputs": [],
      "source": [
        "import torch\n",
        "import torch.nn as nn\n",
        "import torch.nn.functional as F\n",
        "import torch.optim as optim\n",
        "\n",
        "import torchvision\n",
        "import torchvision.datasets as datasets\n",
        "\n",
        "# For using pre-trained ResNets\n",
        "import torchvision.models as models \n",
        "import torchvision.transforms as transforms\n",
        "\n",
        "from torch.utils.data import Dataset, DataLoader\n",
        "\n",
        "import matplotlib.pyplot as plt\n",
        "import numpy as np\n",
        "import os\n",
        "import logging\n",
        "from datetime import datetime\n",
        "from pprint import pprint\n",
        "import gc\n",
        "import functools\n",
        "import math\n",
        "import seaborn as sns\n",
        "\n",
        "# All concrete pieces we're using form sklearn\n",
        "from sklearn.metrics import roc_auc_score, accuracy_score, silhouette_score\n",
        "from sklearn.model_selection import ShuffleSplit\n",
        "\n",
        "from typing import List\n",
        "\n",
        "# Load in the notebook all .py files that make our personal lib\n",
        "# This way we keep notebook code as small as possible, and only pertinent \n",
        "# to the concrete task that this notebook solves (generic and reusable code\n",
        "# goes to personal lib)\n",
        "!cp -r \"$LIB_PATH\"/* .\n",
        "\n",
        "# Now that files are loaded, we can import pieces of code\n",
        "import core\n",
        "import trainers\n",
        "import time\n",
        "import copy\n",
        "import board\n",
        "import filesystem\n",
        "import metrics\n",
        "import loss_functions\n",
        "import embedding_to_classifier\n",
        "import sampler\n",
        "\n",
        "from trainers import train_model_offline, train_model_online\n",
        "from train_loggers import ClassificationLogger, SilentLogger, TripletLoggerOffline, TripletLoggerOnline, TrainLogger\n",
        "from models import *\n",
        "from visualizations import *\n",
        "from tqdm.notebook import tqdm\n",
        "from models import ResNet18\n",
        "from loss_functions import MeanTripletBatchTripletLoss, BatchHardTripletLoss, BatchAllTripletLoss\n",
        "from embedding_to_classifier import EmbeddingToClassifier\n",
        "from sampler import CustomSampler"
      ]
    },
    {
      "cell_type": "markdown",
      "source": [
        "# Configuration of the logger\n",
        "\n",
        "- Here we set the configuration for all logging done \n",
        "- In lib, `logging.getLogger(\"MAIN_LOGGER\")` is used everywhere, so we get it, configure it once, and use that config everywhere"
      ],
      "metadata": {
        "id": "KyePreRCLI2x"
      },
      "id": "KyePreRCLI2x"
    },
    {
      "cell_type": "code",
      "source": [
        "# Get the logger that is used everywhere\n",
        "file_logger = logging.getLogger(\"MAIN_LOGGER\")\n",
        "\n",
        "# Configure it\n",
        "file_logger.propagate = False # Avoid propagatint to upper logger, which logs to \n",
        "                         # the console\n",
        "file_logger.setLevel(logging.DEBUG)\n",
        "formatter = logging.Formatter(\"%(asctime)s::%(levelname)s::%(funcName)s::> %(message)s\")\n",
        "file_handler = logging.FileHandler(LOGGING_FILE)\n",
        "file_handler.setFormatter(formatter)\n",
        "file_logger.addHandler(file_handler)\n",
        "\n",
        "# 'application' code\n",
        "file_logger.debug('debug message')\n"
      ],
      "metadata": {
        "id": "tiO4YfykLIdi"
      },
      "id": "tiO4YfykLIdi",
      "execution_count": 9,
      "outputs": []
    },
    {
      "cell_type": "markdown",
      "id": "a1e330fb",
      "metadata": {
        "id": "a1e330fb"
      },
      "source": [
        "# Functions that we are going to use"
      ]
    },
    {
      "cell_type": "code",
      "execution_count": 10,
      "id": "8eb846cd",
      "metadata": {
        "id": "8eb846cd"
      },
      "outputs": [],
      "source": [
        "def show_learning_curve(training_history: dict):\n",
        "    # Take two learning curves\n",
        "    loss = training_history['loss']\n",
        "    val_loss = training_history['val_loss']\n",
        "\n",
        "    # Move the lists to cpu, because that's what matplotlib needs\n",
        "    loss = [loss_el.cpu() for loss_el in loss]\n",
        "    val_loss = [val_loss_el.cpu() for val_loss_el in val_loss]\n",
        "    \n",
        "    # Show graphics\n",
        "    plt.plot(loss)\n",
        "    plt.plot(val_loss)\n",
        "    plt.legend(['Training loss', 'Validation loss'])\n",
        "    plt.show()\n",
        "    \n",
        "def try_to_clean_memory(): \n",
        "    torch.cuda.empty_cache() \n",
        "    gc.collect()"
      ]
    },
    {
      "cell_type": "markdown",
      "id": "wDEKdrG0oNZ_",
      "metadata": {
        "id": "wDEKdrG0oNZ_"
      },
      "source": [
        "# Random Triplets \n",
        "\n",
        "- In this section, we are going to work with random triplets\n",
        "- If minibatch size is $3\\times n$, then:\n",
        "    - Select a random element. For that element, select a random anchor and a random negative\n",
        "    - Add this triple to the minibatch\n",
        "    - Repeat the process $n$ times\n",
        "- We use this model (determined heavily by the sampling method) as a baseline for more sophisticated models (determined heavily by more sophisticated sampling methods)"
      ]
    },
    {
      "cell_type": "markdown",
      "id": "2c1847bb",
      "metadata": {
        "id": "2c1847bb"
      },
      "source": [
        "## Dataset loading\n",
        "\n",
        "- Load training / test data\n",
        "- Split training in train / validation"
      ]
    },
    {
      "cell_type": "code",
      "execution_count": 11,
      "id": "140a184c",
      "metadata": {
        "id": "140a184c",
        "colab": {
          "base_uri": "https://localhost:8080/"
        },
        "outputId": "8f67c63e-483a-4311-b8e0-92538d10c390"
      },
      "outputs": [
        {
          "output_type": "stream",
          "name": "stderr",
          "text": [
            "/usr/local/lib/python3.7/dist-packages/torch/utils/data/dataloader.py:566: UserWarning: This DataLoader will create 8 worker processes in total. Our suggested max number of worker in current system is 2, which is smaller than what this DataLoader is going to create. Please be aware that excessive worker creation might get DataLoader running slow or even freeze, lower the worker number to avoid potential slowness/freeze if necessary.\n",
            "  cpuset_checked))\n"
          ]
        }
      ],
      "source": [
        "# Transformations that we want to apply when loading the data\n",
        "# Now we are only transforming images to tensors (pythorch only works with tensors)\n",
        "# But we can apply here some normalizations\n",
        "transform = transforms.Compose([\n",
        "    transforms.ToTensor()\n",
        "    # TODO -- apply some normalizations here\n",
        "])\n",
        "\n",
        "# Load the dataset\n",
        "# torchvision has a method to download and load the dataset\n",
        "train_dataset = torchvision.datasets.MNIST(\n",
        "    root = DATA_PATH,\n",
        "    train = True,\n",
        "    download = True,\n",
        "    transform = transform,\n",
        ")\n",
        "\n",
        "test_dataset = torchvision.datasets.MNIST(\n",
        "    root = DATA_PATH,\n",
        "    train = False,\n",
        "    download = True,\n",
        "    transform = transform,\n",
        ")\n",
        "\n",
        "# Train -> train / validation split\n",
        "train_dataset, validation_dataset = core.split_train_test(train_dataset, 0.8)\n",
        "\n",
        "# Data loaders to access the datasets\n",
        "train_loader = torch.utils.data.DataLoader(\n",
        "    train_dataset,\n",
        "    batch_size = OFFLINE_BATCH_SIZE,\n",
        "    shuffle = True,\n",
        "    num_workers = NUM_WORKERS,\n",
        "    pin_memory = True,\n",
        ")\n",
        "\n",
        "validation_loader = torch.utils.data.DataLoader(\n",
        "    validation_dataset,\n",
        "    batch_size = OFFLINE_BATCH_SIZE,\n",
        "    shuffle = True,\n",
        "    num_workers = NUM_WORKERS,\n",
        "    pin_memory = True,\n",
        ")\n",
        "\n",
        "test_loader = torch.utils.data.DataLoader(\n",
        "    test_dataset,\n",
        "    batch_size = OFFLINE_BATCH_SIZE,\n",
        "    shuffle = True,\n",
        "    num_workers = NUM_WORKERS,\n",
        "    pin_memory = True,\n",
        ")"
      ]
    },
    {
      "cell_type": "markdown",
      "id": "e44717f5",
      "metadata": {
        "id": "e44717f5"
      },
      "source": [
        "## Exploratory Data Analysis"
      ]
    },
    {
      "cell_type": "markdown",
      "id": "88baf997",
      "metadata": {
        "id": "88baf997"
      },
      "source": [
        "Show some images with their classes, to verify that data loading was properly done:"
      ]
    },
    {
      "cell_type": "code",
      "execution_count": 12,
      "id": "ebc478f5",
      "metadata": {
        "id": "ebc478f5",
        "colab": {
          "base_uri": "https://localhost:8080/",
          "height": 1000
        },
        "outputId": "be9e6b29-7c19-425b-e644-f6de2a6fe6bf"
      },
      "outputs": [
        {
          "output_type": "stream",
          "name": "stdout",
          "text": [
            "Img class is: 3\n"
          ]
        },
        {
          "output_type": "display_data",
          "data": {
            "text/plain": [
              "<Figure size 432x288 with 1 Axes>"
            ],
            "image/png": "[encoded data removed]"
          },
          "metadata": {
            "needs_background": "light"
          }
        },
        {
          "output_type": "stream",
          "name": "stdout",
          "text": [
            "Img class is: 1\n"
          ]
        },
        {
          "output_type": "display_data",
          "data": {
            "text/plain": [
              "<Figure size 432x288 with 1 Axes>"
            ],
            "image/png": "[encoded data removed]"
          },
          "metadata": {
            "needs_background": "light"
          }
        },
        {
          "output_type": "stream",
          "name": "stdout",
          "text": [
            "Img class is: 6\n"
          ]
        },
        {
          "output_type": "display_data",
          "data": {
            "text/plain": [
              "<Figure size 432x288 with 1 Axes>"
            ],
            "image/png": "[encoded data removed]"
          },
          "metadata": {
            "needs_background": "light"
          }
        },
        {
          "output_type": "stream",
          "name": "stdout",
          "text": [
            "Img class is: 2\n"
          ]
        },
        {
          "output_type": "display_data",
          "data": {
            "text/plain": [
              "<Figure size 432x288 with 1 Axes>"
            ],
            "image/png": "[encoded data removed]"
          },
          "metadata": {
            "needs_background": "light"
          }
        },
        {
          "output_type": "stream",
          "name": "stdout",
          "text": [
            "Img class is: 5\n"
          ]
        },
        {
          "output_type": "display_data",
          "data": {
            "text/plain": [
              "<Figure size 432x288 with 1 Axes>"
            ],
            "image/png": "[encoded data removed]"
          },
          "metadata": {
            "needs_background": "light"
          }
        }
      ],
      "source": [
        "imgs_to_show = 5\n",
        "\n",
        "for _ in range(imgs_to_show):\n",
        "\n",
        "    # Cargamos un batch de imagenes\n",
        "    images, images_classes = next(iter(train_loader))\n",
        "\n",
        "    # Nos quedamos con la primera imagen del batch\n",
        "    img, img_class = images[0], images_classes[0]\n",
        "\n",
        "    # Mostramos alguna informacion de la imagen\n",
        "    print(f\"Img class is: {img_class}\")\n",
        "\n",
        "    # Re-escalamos y mostramos la imagen\n",
        "    img = img.reshape((28, 28))\n",
        "    show_img(img, color_format_range = (-1.0, 1.0))"
      ]
    },
    {
      "cell_type": "markdown",
      "id": "dfcc5d89",
      "metadata": {
        "id": "dfcc5d89"
      },
      "source": [
        "Show the sizes of the datasets"
      ]
    },
    {
      "cell_type": "code",
      "execution_count": 13,
      "id": "b6a35e9b",
      "metadata": {
        "id": "b6a35e9b",
        "colab": {
          "base_uri": "https://localhost:8080/"
        },
        "outputId": "6cd92db7-74c4-4a4c-bc90-21c94ddc71a3"
      },
      "outputs": [
        {
          "output_type": "stream",
          "name": "stdout",
          "text": [
            "Train dataset: 48000\n",
            "Validation dataset: 12000\n",
            "Test dataset: 10000\n"
          ]
        }
      ],
      "source": [
        "print(f\"Train dataset: {len(train_dataset)}\")\n",
        "print(f\"Validation dataset: {len(validation_dataset)}\")\n",
        "print(f\"Test dataset: {len(test_dataset)}\")"
      ]
    },
    {
      "cell_type": "markdown",
      "id": "c5029063",
      "metadata": {
        "id": "c5029063"
      },
      "source": [
        "## Random triplets generation\n",
        "\n",
        "- For training the siamese network, we need triplets for computing *triplet loss*\n",
        "- One simple way of generating triplets is randomly creating triplets (as explained before) in an offline fashion\n",
        "    - Created a dataset of random triplets beforehand\n",
        "    - With fixed elements \n",
        "- Later, we are going to generate triplets in an online fashion with more sophisticated methods\n",
        "- In this case, we create a *pytorch* `Dataset` class, following the [official documentation]](https://pytorch.org/tutorials/beginner/data_loading_tutorial.html)"
      ]
    },
    {
      "cell_type": "code",
      "execution_count": 14,
      "id": "59f54f66",
      "metadata": {
        "id": "59f54f66"
      },
      "outputs": [],
      "source": [
        "from torch.utils.data import RandomSampler\n",
        "\n",
        "# TODO -- change attr names to english ones\n",
        "class RandomTriplets(Dataset):\n",
        "    \"\"\"\n",
        "    Dataset where elements are random triplets\n",
        "    \"\"\"\n",
        "\n",
        "    def __init__(self, base_data: Dataset, custom_len: int, transform = None):\n",
        "        self.base_data = base_data\n",
        "        self.custom_len = custom_len\n",
        "        self.transform = transform\n",
        "        self.random_sampler = RandomSampler(self.base_data, replacement=True, num_samples=1, generator=None)\n",
        "        \n",
        "        # For speeding things up, we can pre-compute a list of lists, such that\n",
        "        # self.posiciones_clases[i] has all the indixes of elements corresponding \n",
        "        # to i-th class\n",
        "        self.posiciones_clases = self.__precompute_list_of_classes()\n",
        "\n",
        "    def __len__(self) -> int:\n",
        "        \"\"\"\n",
        "        We are generating random triplets. WAe have an attr that defines\n",
        "        how many triplets we want, so we return that value\n",
        "        \"\"\"\n",
        "        return self.custom_len\n",
        "\n",
        "    def __getitem__(self, idx: int) -> Tuple[np.ndarray, np.ndarray, np.ndarray]:\n",
        "        \"\"\"       \n",
        "        Function which is called when using `dataset[idx]`\n",
        "        \n",
        "        Instead of returning an image, which is the common behavior, we return \n",
        "        a triplet (anchor, positive, negative)\n",
        "        \"\"\"\n",
        "\n",
        "        # Speed up computations\n",
        "        if torch.is_tensor(idx):\n",
        "            idx = idx.tolist()\n",
        "\n",
        "        # Take a random class, which will act as anchor\n",
        "        anchor, anchor_class = self.base_data[next(iter(self.random_sampler))]\n",
        "\n",
        "        # Take a random image of the same class\n",
        "        # Thus, this image will be the anchor\n",
        "        random_index = np.random.choice(self.posiciones_clases[anchor_class])\n",
        "        positive, positive_class = self.base_data[random_index]\n",
        "\n",
        "        # Take a random image of other class\n",
        "        # Start taking a class that is not the same as the anchor class\n",
        "        posible_classes = list(range(10))\n",
        "        posible_classes.remove(anchor_class)\n",
        "        negative_class = np.random.choice(posible_classes)\n",
        "\n",
        "        # Take a random image of that negative class selected before\n",
        "        random_index = np.random.choice(self.posiciones_clases[negative_class])\n",
        "        negative, negative_class = self.base_data[random_index]\n",
        "        \n",
        "        # Pack up the triplet\n",
        "        triplet = [anchor, positive, negative]\n",
        "\n",
        "        # Apply the dataset transformation to the three images \n",
        "        if self.transform:\n",
        "            triplet = [self.transform(np.array(img)) for img in triplet]\n",
        "\n",
        "        return triplet\n",
        "\n",
        "    def __precompute_list_of_classes(self) -> List[List[int]]:\n",
        "        \"\"\"\n",
        "        Computes a list containing list. Each list contains the positions of elements of given class\n",
        "        ie. class_positions[i] contains all positions of elements of i-th class\n",
        "        \"\"\"\n",
        "\n",
        "        # Init the list of lists\n",
        "        posiciones_clases = [[] for _ in range(10)]\n",
        "\n",
        "        # Walk the dataset and assign each element to its corresponding class\n",
        "        for idx, element in enumerate(self.base_data):\n",
        "            _, img_class = element\n",
        "            posiciones_clases[img_class].append(idx)\n",
        "\n",
        "        return posiciones_clases\n",
        "\n",
        "    \n",
        "class CustomReshape(object):\n",
        "    \"\"\"\n",
        "    Transform an (28, 1, 28) img to an (28, 28) img\n",
        "    \"\"\"\n",
        "\n",
        "    def __call__(self, image):\n",
        "        image = image.reshape(28, 28)\n",
        "        return image"
      ]
    },
    {
      "cell_type": "code",
      "execution_count": 15,
      "id": "2b4cbf68",
      "metadata": {
        "id": "2b4cbf68"
      },
      "outputs": [],
      "source": [
        "# Check if we want to skip this section \n",
        "if SKIP_RANDOM_TRIPLETS_TRAINING is False:\n",
        "   \n",
        "    # Reshape images from (28, 1, 28) to (28, 28)\n",
        "    transform = transforms.Compose([\n",
        "        # Move images to torch tensors that are needed for pytorch\n",
        "        transforms.ToTensor(),\n",
        "            \n",
        "        # Use our custom reshape\n",
        "        CustomReshape(),\n",
        "    ])\n",
        "\n",
        "    # Generate a dataset with the random triplets and use it \n",
        "    # on a dataloader, for train, validation and test original \n",
        "    # datasets \n",
        "    random_triplets_train = RandomTriplets(\n",
        "        base_data = train_dataset,\n",
        "        custom_len = RANDOM_TRIPLETS_DATA_SIZE,\n",
        "        transform = transform,\n",
        "    )\n",
        "    train_loader = torch.utils.data.DataLoader(\n",
        "        random_triplets_train,\n",
        "        batch_size = OFFLINE_BATCH_SIZE,\n",
        "        shuffle = True,\n",
        "        num_workers = NUM_WORKERS,\n",
        "        pin_memory = True,\n",
        "    )\n",
        "\n",
        "    random_triplets_validation = RandomTriplets(\n",
        "        base_data = validation_dataset,\n",
        "        custom_len = RANDOM_TRIPLETS_DATA_SIZE,\n",
        "        transform = transform,\n",
        "    )\n",
        "    validation_loader = torch.utils.data.DataLoader(\n",
        "        random_triplets_validation,\n",
        "        batch_size = OFFLINE_BATCH_SIZE,\n",
        "        shuffle = True,\n",
        "        num_workers = NUM_WORKERS,\n",
        "        pin_memory = True,\n",
        "    )\n",
        "\n",
        "    random_triplets_test = RandomTriplets(\n",
        "        base_data = test_dataset,\n",
        "        custom_len = RANDOM_TRIPLETS_DATA_SIZE,\n",
        "        transform = transform,\n",
        "    )\n",
        "    test_loader = torch.utils.data.DataLoader(\n",
        "        random_triplets_test,\n",
        "        batch_size = OFFLINE_BATCH_SIZE,\n",
        "        shuffle = True,\n",
        "        num_workers = NUM_WORKERS,\n",
        "        pin_memory = True,\n",
        "    )\n",
        "\n",
        "    # Show some triplets to check behaviour\n",
        "    custom_triplet = random_triplets_train[2]\n",
        "    for i in custom_triplet :\n",
        "        show_img(i, color_format_range = (-1.0, 1.0))\n"
      ]
    },
    {
      "cell_type": "markdown",
      "id": "58b0c7d0",
      "metadata": {
        "id": "58b0c7d0"
      },
      "source": [
        "## Model training"
      ]
    },
    {
      "cell_type": "code",
      "execution_count": 16,
      "id": "569ed64d",
      "metadata": {
        "id": "569ed64d",
        "colab": {
          "base_uri": "https://localhost:8080/"
        },
        "outputId": "b87fd816-99d2-4305-a39d-45ed429dc349"
      },
      "outputs": [
        {
          "output_type": "stream",
          "name": "stdout",
          "text": [
            "LightModel(\n",
            "  (conv1): Conv2d(1, 4, kernel_size=(3, 3), stride=(1, 1))\n",
            "  (conv2): Conv2d(4, 8, kernel_size=(3, 3), stride=(1, 1))\n",
            "  (conv3): Conv2d(8, 16, kernel_size=(3, 3), stride=(1, 1))\n",
            "  (conv4): Conv2d(16, 32, kernel_size=(3, 3), stride=(1, 1))\n",
            "  (fc): Linear(in_features=3200, out_features=3, bias=True)\n",
            ")\n"
          ]
        }
      ],
      "source": [
        "net = LightModel(EMBEDDING_DIMENSION)\n",
        "\n",
        "# The training function takes a dict of parameters \n",
        "# Build this dict with Global Parameters values\n",
        "parameters = dict()\n",
        "parameters[\"epochs\"] = TRAINING_EPOCHS_RANDOM\n",
        "parameters[\"lr\"] = RANDOM_TRIPLET_LEARNING_RATE\n",
        "parameters[\"criterion\"] = MeanTripletBatchTripletLoss(MARGIN, use_softplus = USE_SOFTPLUS_LOSS)\n",
        "\n",
        "# Define the logger we want for the training\n",
        "logger = TripletLoggerOffline(\n",
        "    net = net,\n",
        "    iterations = OFFLINE_LOGGING_ITERATIONS,\n",
        "    loss_func = parameters[\"criterion\"],\n",
        ")\n",
        "\n",
        "print(net)"
      ]
    },
    {
      "cell_type": "code",
      "execution_count": 17,
      "id": "5bc94a2d",
      "metadata": {
        "id": "5bc94a2d"
      },
      "outputs": [],
      "source": [
        "# Check if we want to skip this training\n",
        "if SKIP_RANDOM_TRIPLETS_TRAINING is False:\n",
        "\n",
        "    training_history = train_model_offline(\n",
        "        net = net,\n",
        "        path = os.path.join(BASE_PATH, \"tmp\"),\n",
        "        parameters = parameters,\n",
        "        train_loader = train_loader,\n",
        "        validation_loader = validation_loader,\n",
        "        name = \"SiameseNetwork\",\n",
        "        logger = logger,\n",
        "        snapshot_iterations = None\n",
        "    )"
      ]
    },
    {
      "cell_type": "code",
      "execution_count": 18,
      "id": "f312e365",
      "metadata": {
        "id": "f312e365"
      },
      "outputs": [],
      "source": [
        "# Check if we want to skip this section\n",
        "if SKIP_RANDOM_TRIPLETS_TRAINING is False: show_learning_curve(training_history)"
      ]
    },
    {
      "cell_type": "code",
      "execution_count": 19,
      "id": "5cedfac4",
      "metadata": {
        "id": "5cedfac4",
        "colab": {
          "base_uri": "https://localhost:8080/"
        },
        "outputId": "94c4b885-89d2-498c-b4f0-f270333d43ea"
      },
      "outputs": [
        {
          "output_type": "execute_result",
          "data": {
            "text/plain": [
              "LightModel(\n",
              "  (conv1): Conv2d(1, 4, kernel_size=(3, 3), stride=(1, 1))\n",
              "  (conv2): Conv2d(4, 8, kernel_size=(3, 3), stride=(1, 1))\n",
              "  (conv3): Conv2d(8, 16, kernel_size=(3, 3), stride=(1, 1))\n",
              "  (conv4): Conv2d(16, 32, kernel_size=(3, 3), stride=(1, 1))\n",
              "  (fc): Linear(in_features=3200, out_features=3, bias=True)\n",
              ")"
            ]
          },
          "metadata": {},
          "execution_count": 19
        }
      ],
      "source": [
        "# From this point, we won't perform training on the model\n",
        "# So eval mode is set for better performance \n",
        "net.eval()"
      ]
    },
    {
      "cell_type": "markdown",
      "id": "967f2783",
      "metadata": {
        "id": "967f2783"
      },
      "source": [
        "## Model evaluation"
      ]
    },
    {
      "cell_type": "code",
      "execution_count": 20,
      "id": "c60be0c4",
      "metadata": {
        "id": "c60be0c4"
      },
      "outputs": [],
      "source": [
        "# Check if we want to skip this section\n",
        "if SKIP_RANDOM_TRIPLETS_TRAINING is False: \n",
        "    \n",
        "    # Get the \"criterion\" metric over test loader\n",
        "    # Remember this test loader is made of random triplets from the test dataset\n",
        "    with torch.no_grad(): core.test_model(net, test_loader, parameters[\"criterion\"])"
      ]
    },
    {
      "cell_type": "markdown",
      "id": "oOPlWZWYu7cR",
      "metadata": {
        "id": "oOPlWZWYu7cR"
      },
      "source": [
        "We use the adapter to classification task to have more metrics about the model:"
      ]
    },
    {
      "cell_type": "code",
      "execution_count": 21,
      "id": "29f14b37",
      "metadata": {
        "id": "29f14b37",
        "scrolled": true
      },
      "outputs": [],
      "source": [
        "# Check if we want to skip this section\n",
        "if SKIP_RANDOM_TRIPLETS_TRAINING is False:\n",
        "    with torch.no_grad():\n",
        "    \n",
        "        # Get back the two original dataloaders\n",
        "        # That's to say, dataloaders that return minibatches of images\n",
        "        # No triplets involved with this dataloaders\n",
        "        train_loader = torch.utils.data.DataLoader(\n",
        "            train_dataset,\n",
        "            batch_size = OFFLINE_BATCH_SIZE,\n",
        "            shuffle = True,\n",
        "            num_workers = NUM_WORKERS,\n",
        "            pin_memory = True,\n",
        "        )\n",
        "        test_loader = torch.utils.data.DataLoader(\n",
        "            test_dataset,\n",
        "            batch_size = OFFLINE_BATCH_SIZE,\n",
        "            shuffle = True,\n",
        "            num_workers = NUM_WORKERS,\n",
        "            pin_memory = True,\n",
        "        )\n",
        "    \n",
        "        # Generate a classifier using the embedding (represented by the network)\n",
        "        classifier = EmbeddingToClassifier(\n",
        "            net, \n",
        "            k = NUMBER_NEIGHBOURS, \n",
        "            data_loader = train_loader,\n",
        "            embedding_dimension = EMBEDDING_DIMENSION\n",
        "        )"
      ]
    },
    {
      "cell_type": "markdown",
      "id": "ae61cab8",
      "metadata": {
        "id": "ae61cab8"
      },
      "source": [
        "We evaluate this classifier by watching how it works over a small test set. Later we take some metrics from this classifier to evaluate it more precisely.   "
      ]
    },
    {
      "cell_type": "code",
      "execution_count": 22,
      "id": "f2b77a7a",
      "metadata": {
        "id": "f2b77a7a"
      },
      "outputs": [],
      "source": [
        "# Check if we want to skip this section\n",
        "if SKIP_RANDOM_TRIPLETS_TRAINING is False:\n",
        "    with torch.no_grad():\n",
        "      \n",
        "        # Shoow only `max_iterations` classifications\n",
        "        counter = 0\n",
        "        max_iterations = 20\n",
        "    \n",
        "        for img, img_class in test_dataset:\n",
        "            predicted_class = classifier.predict(img)\n",
        "            print(f\"True label: {img_class}, predicted label: {predicted_class[0]}, correct: {img_class == predicted_class[0]}\")\n",
        "    \n",
        "            counter += 1\n",
        "            if counter == max_iterations: break"
      ]
    },
    {
      "cell_type": "markdown",
      "id": "d4def6fb",
      "metadata": {
        "id": "d4def6fb"
      },
      "source": [
        "## Plot of the embedding\n",
        "\n",
        "- If the dimension of the embedding is 2, then we can plot how the transformation to a classificator works:"
      ]
    },
    {
      "cell_type": "code",
      "execution_count": 23,
      "id": "47c93584",
      "metadata": {
        "id": "47c93584"
      },
      "outputs": [],
      "source": [
        "# Check if we want to skip this section\n",
        "if SKIP_RANDOM_TRIPLETS_TRAINING is False: \n",
        "    with torch.no_grad(): classifier.scatter_plot()"
      ]
    },
    {
      "cell_type": "markdown",
      "id": "bfcedc5e",
      "metadata": {
        "id": "bfcedc5e"
      },
      "source": [
        "## Evaluating the obtained classifier \n",
        "\n",
        "- Now that we adapted our network to a classification task, we can compute some classification metrics"
      ]
    },
    {
      "cell_type": "code",
      "execution_count": 24,
      "id": "ef6bcfa1",
      "metadata": {
        "id": "ef6bcfa1"
      },
      "outputs": [],
      "source": [
        "# TODO -- translate to english\n",
        "# TODO -- move this to lib \n",
        "from sklearn.metrics import confusion_matrix\n",
        "\n",
        "def calculate_roc_auc(true_labels_prob: np.array, predicted_labels_prob: np.array) -> float:\n",
        "    \"\"\"\n",
        "    Calcula el area bajo la curva ROC, dadas las etiquetas verdaderas y las\n",
        "    etiqeutas predichas por un modelo\n",
        "    \n",
        "    Las listas de etiquetas deben ser etiquetas probabilisticas\n",
        "    \"\"\"\n",
        "    return roc_auc_score(true_labels_prob, predicted_labels_prob, multi_class = \"ovo\")\n",
        "    \n",
        "def calculate_accuracy(true_labels: np.array, predicted_labels: np.array) -> float:\n",
        "    \"\"\"\n",
        "    Calcula el accuracy, dadas las etiquetas verdaderas y las\n",
        "    etiqeutas predichas por un modelo\n",
        "    \"\"\"\n",
        "    return accuracy_score(true_labels, predicted_labels)\n",
        "\n",
        "def calculate_silhouette(x, y):\n",
        "    \"\"\"Calcula el indice de silhouette para el embedding calculado por el modelo\"\"\"\n",
        "    return silhouette_score(x, y)\n",
        "\n",
        "def evaluate_model(model, train_loader, test_loader) -> dict:\n",
        "    \"\"\"\n",
        "    Evalua, usando distintas metricas, el modelo que hemos entrenado\n",
        "    Tambien evaluamos el embedding obtenido, no solo el clasificador\n",
        "    \n",
        "    Devuelve un diccionario con todas las metricas calculadas con el modelo\n",
        "    \"\"\"\n",
        "    \n",
        "    # Diccionario en el que vamos a almacenar todas las metricas\n",
        "    metrics = dict()\n",
        "    \n",
        "    # Tomamos los arrays en formato adecuado para calcular ciertas metricas\n",
        "    x_train, y_train = EmbeddingToClassifier(net, k = NUMBER_NEIGHBOURS, data_loader = train_loader, embedding_dimension = EMBEDDING_DIMENSION).prepare_data_for_sklearn()\n",
        "    x_test, y_test = EmbeddingToClassifier(net, k = NUMBER_NEIGHBOURS, data_loader = test_loader, embedding_dimension = EMBEDDING_DIMENSION).prepare_data_for_sklearn()\n",
        "    \n",
        "    # Empezamos usando el modelo para realizar las predicciones+\n",
        "    # Usamos predicciones probabilisticas pues estas son fundamentales para\n",
        "    # la metrica roc auc\n",
        "    train_predicted_labels_prob = model.predict_proba_using_embedding(x_train)\n",
        "    test_predicted_labels_prob = model.predict_proba_using_embedding(x_test)\n",
        "\n",
        "    # Tomamos ahora las etiqeutas sin probabilidad\n",
        "    train_predicted_labels= model.predict_using_embedding(x_train)\n",
        "    test_predicted_labels = model.predict_using_embedding(x_test)\n",
        "    \n",
        "    # Tomamos las metricas de accuracy\n",
        "    metrics[\"train_acc\"] = calculate_accuracy(y_train, train_predicted_labels)\n",
        "    metrics[\"test_acc\"] = calculate_accuracy(y_test, test_predicted_labels)\n",
        "    \n",
        "    # Tomamos las areas bajo la curva ROC\n",
        "    metrics[\"train_roc_auc\"] = calculate_roc_auc(y_train, train_predicted_labels_prob)\n",
        "    metrics[\"test_roc_auc\"] = calculate_roc_auc(y_test, test_predicted_labels_prob)\n",
        "    \n",
        "    # Tomamos el indice de silhouette\n",
        "    metrics[\"train_silhouette\"] = calculate_silhouette(x_train, y_train)\n",
        "    metrics[\"test_silhouette\"] = calculate_silhouette(x_test, y_test)\n",
        "    \n",
        "    #Calculamos Matriz de confusion\n",
        "    metrics[\"train_confusion_matrix\"]=confusion_matrix(y_train, train_predicted_labels)\n",
        "    metrics[\"test_confusion_matrix\"]=confusion_matrix(y_test, test_predicted_labels)\n",
        "    \n",
        "    # Devolvemos las metricas en formato diccionario, que nos va a ser comodo para\n",
        "    # pasarlas a tablas y para mostrar muchas metricas simultaneamente\n",
        "    return metrics\n",
        "\n",
        "\n",
        "def plot_confusion_matrix(train_confusion_matrix,test_confusion_matrix):\n",
        "    \"\"\"\n",
        "    Mostramos graficamente (mapa de calor) la matriz de confusion\n",
        "    \n",
        "    Podriamos mostrar directamente los valores de la matriz, pero al estar\n",
        "    trabajando con 25 clases es mas dificil de interpretar\n",
        "    \"\"\"\n",
        "    \n",
        "    # Mostramos graficamente las dos matrices de confusion\n",
        "    color_palette = sns.color_palette(\"viridis\", as_cmap=True)\n",
        "    print(\"Matriz de confusion en TRAIN\")\n",
        "    sns.heatmap(train_confusion_matrix, annot = False, cmap = color_palette, fmt=\"d\")\n",
        "    plt.show()\n",
        "    \n",
        "    print(\"Matriz de confusion en TEST\")\n",
        "    sns.heatmap(test_confusion_matrix, annot = False, cmap = color_palette)\n",
        "    plt.show()"
      ]
    },
    {
      "cell_type": "code",
      "execution_count": 25,
      "id": "f7dc2fcb",
      "metadata": {
        "id": "f7dc2fcb"
      },
      "outputs": [],
      "source": [
        "# Check if we want to skip this section\n",
        "if SKIP_RANDOM_TRIPLETS_TRAINING is False:\n",
        "    with torch.no_grad():\n",
        "    \n",
        "        classifier.embedder.set_permute(False)\n",
        "    \n",
        "        metrics = evaluate_model(classifier, train_loader, test_loader)\n",
        "        pprint(metrics)\n",
        "    \n",
        "        classifier.embedder.set_permute(True)"
      ]
    },
    {
      "cell_type": "markdown",
      "id": "OXxDVsblof-O",
      "metadata": {
        "id": "OXxDVsblof-O"
      },
      "source": [
        "# P-K sampled Triplets"
      ]
    },
    {
      "cell_type": "markdown",
      "id": "IDZBu1P-o4TM",
      "metadata": {
        "id": "IDZBu1P-o4TM"
      },
      "source": [
        "## Choose the loss function to use \n",
        "\n",
        "- We have so many combinations for loss functions that is not feasible to use one Colab section for each\n",
        "- Combinations depend on:\n",
        "    1. Batch hard vs Batch all \n",
        "    2. Classical triplet loss vs Softplus loss\n",
        "    3. All summands mean vs Only > 0 summands mean\n",
        "- This election is done in *Global Parameters of the Notebook* section"
      ]
    },
    {
      "cell_type": "code",
      "execution_count": 26,
      "id": "lU4wWC-GpHdI",
      "metadata": {
        "id": "lU4wWC-GpHdI"
      },
      "outputs": [],
      "source": [
        "batch_loss_function = None\n",
        "if BATCH_TRIPLET_LOSS_FUNCTION == \"hard\":\n",
        "    batch_loss_function = BatchHardTripletLoss(MARGIN, use_softplus = USE_SOFTPLUS_LOSS, use_gt_than_zero_mean = USE_GT_ZERO_MEAN_LOSS) \n",
        "if BATCH_TRIPLET_LOSS_FUNCTION == \"all\":\n",
        "    batch_loss_function = BatchAllTripletLoss(MARGIN, use_softplus = USE_SOFTPLUS_LOSS, use_gt_than_zero_mean =  USE_GT_ZERO_MEAN_LOSS) \n",
        "\n",
        "# Sanity check\n",
        "if batch_loss_function is None:\n",
        "    raise Exception(f\"BATCH_TRIPLET_LOSS global parameter got unexpected value: {BATCH_TRIPLET_LOSS_FUNCTION}\")"
      ]
    },
    {
      "cell_type": "markdown",
      "id": "7378947c",
      "metadata": {
        "id": "7378947c"
      },
      "source": [
        "## Use same data but use custom samplers\n",
        "\n",
        "- In the previous section we didn't changed the datasets\n",
        "- But dataloaders have changed\n",
        "- Also, we want to use custom `Sampler` to do $P-K$ sampling\n",
        "    - For each minibatch, select $P$ random classes. For each selected class, select $K$ random images\n",
        "- Thus, each minibatch has a size of $P \\times K$"
      ]
    },
    {
      "cell_type": "code",
      "execution_count": 27,
      "id": "8425cd40",
      "metadata": {
        "id": "8425cd40"
      },
      "outputs": [],
      "source": [
        "# Train dataset and validation dataset were splitted before, resulting in two `Subset` objects\n",
        "# We want to work only with `Dataset` objects, so get only that part\n",
        "train_dataset = train_dataset.dataset\n",
        "validation_dataset = validation_dataset.dataset\n",
        "\n",
        "# New dataloaders that use our custom sampler\n",
        "train_loader = torch.utils.data.DataLoader(\n",
        "    train_dataset,\n",
        "    batch_size = ONLINE_BATCH_SIZE,\n",
        "    num_workers = NUM_WORKERS, \n",
        "    pin_memory = True,\n",
        "    sampler = CustomSampler(P, K, train_dataset)\n",
        ")\n",
        "\n",
        "# TODO -- here I don't know if use default sampler or custom sampler\n",
        "validation_loader = torch.utils.data.DataLoader(\n",
        "    validation_dataset,\n",
        "    batch_size = ONLINE_BATCH_SIZE,\n",
        "    shuffle = True,\n",
        "    num_workers = NUM_WORKERS, \n",
        "    pin_memory = True,\n",
        ")\n",
        "\n",
        "# TODO -- here I don't know if use default sampler or custom sampler\n",
        "test_loader = torch.utils.data.DataLoader(\n",
        "  test_dataset,\n",
        "  batch_size = ONLINE_BATCH_SIZE,\n",
        "  shuffle = True,\n",
        "  num_workers = NUM_WORKERS,\n",
        "  pin_memory = True,\n",
        ")"
      ]
    },
    {
      "cell_type": "markdown",
      "id": "5593607e",
      "metadata": {
        "id": "5593607e"
      },
      "source": [
        "## Hyperparameter tuning"
      ]
    },
    {
      "cell_type": "code",
      "execution_count": 28,
      "id": "867bd047",
      "metadata": {
        "id": "867bd047"
      },
      "outputs": [],
      "source": [
        "# TODO -- translate to english\n",
        "# TODO -- move to lib\n",
        "def custom_cross_validation(net, parameters, train_dataset, k):\n",
        "    \"\"\"Funcion propia para hacer k-fold cross validation de una red convolucional\"\"\"\n",
        "\n",
        "    # Definimos la forma en la que vamos a hacer el split de los folds\n",
        "    ss = ShuffleSplit(n_splits=k, test_size=0.25, random_state=RANDOM_SEED)\n",
        "    \n",
        "    # Lista en la que guardamos las perdidas encontradas en cada fold\n",
        "    losses = []\n",
        "\n",
        "    # Iteramos usando el split que nos da sklearn\n",
        "    for train_index, validation_index in ss.split(train_dataset):\n",
        "        \n",
        "        # Tenemos los indices de los elementos, asi que tomamos los dos datasets\n",
        "        # usando dichos indices\n",
        "        train_fold = [train_dataset[idx] for idx in train_index]\n",
        "        validation_fold = [train_dataset[idx] for idx in validation_index]\n",
        "\n",
        "        # Transformamos los datasets en dataloaders\n",
        "        train_loader = torch.utils.data.DataLoader(\n",
        "            train_fold,\n",
        "            batch_size = ONLINE_BATCH_SIZE,\n",
        "            shuffle = True,\n",
        "            num_workers = NUM_WORKERS,\n",
        "            pin_memory = True,\n",
        "        )\n",
        "        validation_loader = torch.utils.data.DataLoader(\n",
        "            validation_fold,\n",
        "            batch_size = ONLINE_BATCH_SIZE,\n",
        "            shuffle = True,\n",
        "            num_workers = NUM_WORKERS,\n",
        "            pin_memory = True,\n",
        "        )\n",
        "\n",
        "        # Entrenamos la red\n",
        "        _ = train_model_online(\n",
        "            net = net,\n",
        "            path = os.path.join(BASE_PATH, \"tmp\"),\n",
        "            parameters = parameters,\n",
        "            train_loader = train_loader,\n",
        "            validation_loader = validation_loader,\n",
        "            name = \"SiameseNetworkOnline\",\n",
        "            logger = SilentLogger(),\n",
        "            snapshot_iterations = None\n",
        "        )\n",
        "\n",
        "        # Evaluamos la red en el fold de validacion\n",
        "        net.eval()\n",
        "        loss = metrics.calculate_mean_triplet_loss_online(net, validation_loader, parameters[\"criterion\"], 1.0)\n",
        "        loss = float(loss) # Pasamos el tensor de un unico elemento a un float simple\n",
        "\n",
        "        # Añadimos el loss a nuestra lista\n",
        "        losses.append(loss)\n",
        "    \n",
        "    # Devolvemos el array en formato numpy para que sea mas comodo trabajar con ella\n",
        "    return np.array(losses)\n"
      ]
    },
    {
      "cell_type": "code",
      "execution_count": 29,
      "id": "292f5ea4",
      "metadata": {
        "id": "292f5ea4"
      },
      "outputs": [],
      "source": [
        "# Controlamos si queremos realizar el hyperparameater tuning o no\n",
        "if SKIP_HYPERPARAMTER_TUNING is False:\n",
        "\n",
        "    # Para controlar que parametros ya hemos explorado y queremos saltar\n",
        "    already_explored_parameters = [\n",
        "        # Embedding dimension, learning rate, margin\n",
        "        (2, 0.0001, 0.01),\n",
        "        (2, 0.0001, 1),\n",
        "        (3, 0.0001),\n",
        "    ]\n",
        "\n",
        "    # Parametros que queremos mover\n",
        "    #margin_values = [0.01, 0.1, 1.0]\n",
        "    # TODO -- volver a poner todos los valores\n",
        "    margin_values = [1.0]\n",
        "    learning_rate_values = [0.0001, 0.001, 0.01]\n",
        "    embedding_dimension_values = [2, 3, 4]\n",
        "    \n",
        "    # Parametros que fijamos de antemano\n",
        "    epochs = HYPERPARAMETER_TUNING_EPOCHS\n",
        "    \n",
        "    # Llevamos la cuenta de los mejores parametros y el mejor error encontrados hasta\n",
        "    # el momento\n",
        "    best_loss = None\n",
        "    best_parameters = {\n",
        "        \"embedding_dimension\": None,\n",
        "        \"lr\": None,\n",
        "        \"margin\": None\n",
        "    }\n",
        "    \n",
        "    # Exploramos las combinaciones de parametros\n",
        "    for margin in margin_values:\n",
        "        for learning_rate in learning_rate_values:\n",
        "            for embedding_dimension in embedding_dimension_values:\n",
        "        \n",
        "                print(f\"Optimizando para margin: {margin}, lr: {learning_rate}, embedding_dim: {embedding_dimension}\")\n",
        "\n",
        "                # Comprobamos si tenemos que saltarnos el calculo de algun valor\n",
        "                # porque ya se haya hecho\n",
        "                if (embedding_dimension, learning_rate, margin) in already_explored_parameters:\n",
        "                    print(\"\\tSaltando este calculo porque ya se realizo\")\n",
        "                    continue\n",
        "                \n",
        "                # Definimos el modelo que queremos optimizar\n",
        "                net = ResNet18(embedding_dimension)\n",
        "                \n",
        "                # En este caso, al no estar trabajando con los minibatches\n",
        "                # (los usamos directamente como nos los da pytorch), no tenemos\n",
        "                # que manipular los tensores\n",
        "                net.set_permute(False)\n",
        "                \n",
        "                parameters = dict()\n",
        "                parameters[\"epochs\"] = epochs\n",
        "                parameters[\"lr\"] = learning_rate\n",
        "                parameters[\"criterion\"] = BatchHardTripletLoss(margin)\n",
        "                logger = SilentLogger()\n",
        "    \n",
        "                # Usamos nuestra propia funcion de cross validation para validar el modelo\n",
        "                losses = custom_cross_validation(net, parameters, train_dataset, k = NUMBER_OF_FOLDS) \n",
        "                print(f\"El loss conseguido es {losses.mean()}\")\n",
        "                print(\"\")\n",
        "            \n",
        "                # Comprobamos si hemos mejorado la funcion de perdida\n",
        "                # En cuyo caso, actualizamos nuestra estructura de datos y, sobre todo, mostramos\n",
        "                # por pantalla los nuevos mejores parametros\n",
        "                basic_condition = math.isnan(losses.mean()) is False             # Si es NaN no entramos al if\n",
        "                enter_condition = best_loss is None or losses.mean() < best_loss # Entramos al if si mejoramos la perdida\n",
        "                compound_condition = basic_condition and enter_condition\n",
        "                if compound_condition:\n",
        "                \n",
        "                    # Actualizamos nuestra estructura de datos\n",
        "                    best_loss = losses.mean()\n",
        "                    best_parameters = {\n",
        "                        \"embedding_dimension\": embedding_dimension,\n",
        "                        \"lr\": learning_rate,\n",
        "                        \"margin\": margin,\n",
        "                    }\n",
        "            \n",
        "                    # Mostramos el cambio encontrado\n",
        "                    print(\"==> ENCONTRADOS NUEVOS MEJORES PARAMETROS\")\n",
        "                    print(f\"Mejores parametros: {best_parameters}\")\n",
        "                    print(f\"Mejor loss: {best_loss}\")\n",
        "            \n",
        "                \n"
      ]
    },
    {
      "cell_type": "markdown",
      "id": "3e1ee8ba",
      "metadata": {
        "id": "3e1ee8ba"
      },
      "source": [
        "## Online training"
      ]
    },
    {
      "cell_type": "code",
      "execution_count": 30,
      "id": "d7a2afd9",
      "metadata": {
        "id": "d7a2afd9",
        "colab": {
          "base_uri": "https://localhost:8080/"
        },
        "outputId": "aacbee93-3b69-43f0-a731-c14999ba36e7"
      },
      "outputs": [
        {
          "output_type": "stream",
          "name": "stdout",
          "text": [
            "LightModel(\n",
            "  (conv1): Conv2d(1, 4, kernel_size=(3, 3), stride=(1, 1))\n",
            "  (conv2): Conv2d(4, 8, kernel_size=(3, 3), stride=(1, 1))\n",
            "  (conv3): Conv2d(8, 16, kernel_size=(3, 3), stride=(1, 1))\n",
            "  (conv4): Conv2d(16, 32, kernel_size=(3, 3), stride=(1, 1))\n",
            "  (fc): Linear(in_features=3200, out_features=3, bias=True)\n",
            ")\n"
          ]
        }
      ],
      "source": [
        "net = LightModel(EMBEDDING_DIMENSION)\n",
        "\n",
        "# The custom sampler takes care of minibatch management\n",
        "# Thus, we don't have to make manipulations on them\n",
        "net.set_permute(False)\n",
        "\n",
        "# Training parameters\n",
        "parameters = dict()\n",
        "parameters[\"epochs\"] = TRAINING_EPOCHS\n",
        "parameters[\"lr\"] = ONLINE_LEARNING_RATE\n",
        "\n",
        "# We use the loss function that depends on the global parameter BATCH_TRIPLET_LOSS_FUNCTION\n",
        "# We selected this loss func in *Choose the loss function to use* section\n",
        "parameters[\"criterion\"] = batch_loss_function\n",
        "\n",
        "# Define the logger we want to use \n",
        "logger = TripletLoggerOnline(\n",
        "    net = net,\n",
        "    iterations = LOGGING_ITERATIONS,\n",
        "    loss_func = parameters[\"criterion\"],\n",
        "    train_percentage = ONLINE_LOGGER_TRAIN_PERCENTAGE,\n",
        "    validation_percentage = ONLINE_LOGGER_VALIDATION_PERCENTAGE,\n",
        ")\n",
        "\n",
        "print(net)"
      ]
    },
    {
      "cell_type": "code",
      "execution_count": 31,
      "id": "aa722a06",
      "metadata": {
        "id": "aa722a06",
        "colab": {
          "base_uri": "https://localhost:8080/"
        },
        "outputId": "d751685a-208a-4d20-c8d6-7a945faf3c57"
      },
      "outputs": [
        {
          "output_type": "stream",
          "name": "stdout",
          "text": [
            "==> Training on device cuda:0\n",
            "\n",
            "[0 / 96]\n",
            "[0 / 192]\n",
            "[0 / 288]\n",
            "[0 / 384]\n",
            "[0 / 480]\n",
            "[0 / 576]\n",
            "[0 / 672]\n",
            "[0 / 768]\n",
            "[0 / 864]\n",
            "[0 / 960]\n",
            "[0 / 1056]\n",
            "[0 / 1152]\n",
            "[0 / 1248]\n",
            "[0 / 1344]\n",
            "[0 / 1440]\n",
            "[0 / 1536]\n",
            "[0 / 1632]\n",
            "[0 / 1728]\n",
            "[0 / 1824]\n",
            "[0 / 1920]\n",
            "\tTraining loss: 0.10415204614400864\n",
            "\tValidation loss: 0.10414797812700272\n",
            "\n",
            "[0 / 2016]\n",
            "[0 / 2112]\n",
            "[0 / 2208]\n",
            "[0 / 2304]\n",
            "[0 / 2400]\n",
            "[0 / 2496]\n",
            "[0 / 2592]\n",
            "[0 / 2688]\n",
            "[0 / 2784]\n",
            "[0 / 2880]\n",
            "[0 / 2976]\n",
            "[0 / 3072]\n",
            "[0 / 3168]\n",
            "[0 / 3264]\n",
            "[0 / 3360]\n",
            "[0 / 3456]\n",
            "[0 / 3552]\n",
            "[0 / 3648]\n",
            "[0 / 3744]\n",
            "[0 / 3840]\n",
            "\tTraining loss: 0.10414503514766693\n",
            "\tValidation loss: 0.10414911806583405\n",
            "\n",
            "[0 / 3936]\n",
            "[0 / 4032]\n",
            "[0 / 4128]\n",
            "[0 / 4224]\n",
            "[0 / 4320]\n",
            "[0 / 4416]\n",
            "[0 / 4512]\n",
            "[0 / 4608]\n",
            "[0 / 4704]\n",
            "[0 / 4800]\n",
            "[0 / 4896]\n",
            "[0 / 4992]\n",
            "[0 / 5088]\n",
            "[0 / 5184]\n",
            "[0 / 5280]\n",
            "[0 / 5376]\n",
            "[0 / 5472]\n",
            "[0 / 5568]\n",
            "[0 / 5664]\n",
            "[0 / 5760]\n",
            "\tTraining loss: 0.10414741188287735\n",
            "\tValidation loss: 0.10414700210094452\n",
            "\n",
            "[0 / 5856]\n",
            "[0 / 5952]\n",
            "[0 / 6048]\n",
            "[0 / 6144]\n",
            "[0 / 6240]\n",
            "[0 / 6336]\n",
            "[0 / 6432]\n",
            "[0 / 6528]\n",
            "[0 / 6624]\n",
            "[0 / 6720]\n",
            "[0 / 6816]\n",
            "[0 / 6912]\n",
            "[0 / 7008]\n",
            "[0 / 7104]\n",
            "[0 / 7200]\n",
            "[0 / 7296]\n",
            "[0 / 7392]\n",
            "[0 / 7488]\n",
            "[0 / 7584]\n",
            "[0 / 7680]\n",
            "\tTraining loss: 0.10414661467075348\n",
            "\tValidation loss: 0.10414765775203705\n",
            "\n",
            "[0 / 7776]\n",
            "[0 / 7872]\n",
            "[0 / 7968]\n",
            "[0 / 8064]\n",
            "[0 / 8160]\n",
            "[0 / 8256]\n",
            "[0 / 8352]\n",
            "[0 / 8448]\n",
            "[0 / 8544]\n",
            "[0 / 8640]\n",
            "[0 / 8736]\n",
            "[0 / 8832]\n",
            "[0 / 8928]\n",
            "[0 / 9024]\n",
            "[0 / 9120]\n",
            "[0 / 9216]\n",
            "[0 / 9312]\n",
            "[0 / 9408]\n",
            "[0 / 9504]\n",
            "[0 / 9600]\n",
            "\tTraining loss: 0.10414739698171616\n",
            "\tValidation loss: 0.10414715856313705\n",
            "\n",
            "[0 / 9696]\n",
            "[0 / 9792]\n",
            "[0 / 9888]\n",
            "[0 / 9984]\n",
            "[0 / 10080]\n",
            "[0 / 10176]\n",
            "[0 / 10272]\n",
            "[0 / 10368]\n",
            "[0 / 10464]\n",
            "[0 / 10560]\n",
            "[0 / 10656]\n",
            "[0 / 10752]\n",
            "[0 / 10848]\n",
            "[0 / 10944]\n",
            "[0 / 11040]\n",
            "[0 / 11136]\n",
            "[0 / 11232]\n",
            "[0 / 11328]\n",
            "[0 / 11424]\n",
            "[0 / 11520]\n",
            "\tTraining loss: 0.10414575040340424\n",
            "\tValidation loss: 0.10414938628673553\n",
            "\n",
            "[0 / 11616]\n",
            "[0 / 11712]\n",
            "[0 / 11808]\n",
            "[0 / 11904]\n",
            "[0 / 12000]\n",
            "[0 / 12096]\n",
            "[0 / 12192]\n",
            "[0 / 12288]\n",
            "[0 / 12384]\n",
            "[0 / 12480]\n",
            "[0 / 12576]\n",
            "[0 / 12672]\n",
            "[0 / 12768]\n",
            "[0 / 12864]\n",
            "[0 / 12960]\n",
            "[0 / 13056]\n",
            "[0 / 13152]\n",
            "[0 / 13248]\n",
            "[0 / 13344]\n",
            "[0 / 13440]\n",
            "\tTraining loss: 0.10414852201938629\n",
            "\tValidation loss: 0.10414864867925644\n",
            "\n",
            "[0 / 13536]\n",
            "[0 / 13632]\n",
            "[0 / 13728]\n",
            "[0 / 13824]\n",
            "[0 / 13920]\n",
            "[0 / 14016]\n",
            "[0 / 14112]\n",
            "[0 / 14208]\n",
            "[0 / 14304]\n",
            "[0 / 14400]\n",
            "[0 / 14496]\n",
            "[0 / 14592]\n",
            "[0 / 14688]\n",
            "[0 / 14784]\n",
            "[0 / 14880]\n",
            "[0 / 14976]\n",
            "[0 / 15072]\n",
            "[0 / 15168]\n",
            "[0 / 15264]\n",
            "[0 / 15360]\n",
            "\tTraining loss: 0.10415781289339066\n",
            "\tValidation loss: 0.10415003448724747\n",
            "\n",
            "[0 / 15456]\n",
            "[0 / 15552]\n",
            "[0 / 15648]\n",
            "[0 / 15744]\n",
            "[0 / 15840]\n",
            "[0 / 15936]\n",
            "[0 / 16032]\n",
            "[0 / 16128]\n",
            "[0 / 16224]\n",
            "[0 / 16320]\n",
            "[0 / 16416]\n",
            "[0 / 16512]\n",
            "[0 / 16608]\n",
            "[0 / 16704]\n",
            "[0 / 16800]\n",
            "[0 / 16896]\n",
            "[0 / 16992]\n",
            "[0 / 17088]\n",
            "[0 / 17184]\n",
            "[0 / 17280]\n",
            "\tTraining loss: 0.10415241867303848\n",
            "\tValidation loss: 0.1041533499956131\n",
            "\n",
            "[0 / 17376]\n",
            "[0 / 17472]\n",
            "[0 / 17568]\n",
            "[0 / 17664]\n",
            "[0 / 17760]\n",
            "[0 / 17856]\n",
            "[0 / 17952]\n",
            "[0 / 18048]\n",
            "[0 / 18144]\n",
            "[0 / 18240]\n",
            "[0 / 18336]\n",
            "[0 / 18432]\n",
            "[0 / 18528]\n",
            "[0 / 18624]\n",
            "[0 / 18720]\n",
            "[0 / 18816]\n",
            "[0 / 18912]\n",
            "[0 / 19008]\n",
            "[0 / 19104]\n",
            "[0 / 19200]\n",
            "\tTraining loss: 0.10415240377187729\n",
            "\tValidation loss: 0.10414870828390121\n",
            "\n",
            "[0 / 19296]\n",
            "[0 / 19392]\n",
            "[0 / 19488]\n",
            "[0 / 19584]\n",
            "[0 / 19680]\n",
            "[0 / 19776]\n",
            "[0 / 19872]\n",
            "[0 / 19968]\n",
            "[0 / 20064]\n",
            "[0 / 20160]\n",
            "[0 / 20256]\n",
            "[0 / 20352]\n",
            "[0 / 20448]\n",
            "[0 / 20544]\n",
            "[0 / 20640]\n",
            "[0 / 20736]\n",
            "[0 / 20832]\n",
            "[0 / 20928]\n",
            "[0 / 21024]\n",
            "[0 / 21120]\n",
            "\tTraining loss: 0.10415350645780563\n",
            "\tValidation loss: 0.10414955765008926\n",
            "\n",
            "[0 / 21216]\n",
            "[0 / 21312]\n",
            "[0 / 21408]\n",
            "[0 / 21504]\n",
            "[0 / 21600]\n",
            "[0 / 21696]\n",
            "[0 / 21792]\n",
            "[0 / 21888]\n",
            "[0 / 21984]\n",
            "[0 / 22080]\n",
            "[0 / 22176]\n",
            "[0 / 22272]\n",
            "[0 / 22368]\n",
            "[0 / 22464]\n",
            "[0 / 22560]\n",
            "[0 / 22656]\n",
            "[0 / 22752]\n",
            "[0 / 22848]\n",
            "[0 / 22944]\n",
            "[0 / 23040]\n",
            "\tTraining loss: 0.1041431799530983\n",
            "\tValidation loss: 0.10414966195821762\n",
            "\n",
            "[0 / 23136]\n",
            "[0 / 23232]\n",
            "[0 / 23328]\n",
            "[0 / 23424]\n",
            "[0 / 23520]\n",
            "[0 / 23616]\n",
            "[0 / 23712]\n",
            "[0 / 23808]\n",
            "[0 / 23904]\n",
            "[0 / 24000]\n",
            "[0 / 24096]\n",
            "[0 / 24192]\n",
            "[0 / 24288]\n",
            "[0 / 24384]\n",
            "[0 / 24480]\n",
            "[0 / 24576]\n",
            "[0 / 24672]\n",
            "[0 / 24768]\n",
            "[0 / 24864]\n",
            "[0 / 24960]\n",
            "\tTraining loss: 0.10415097326040268\n",
            "\tValidation loss: 0.10414770990610123\n",
            "\n",
            "[0 / 25056]\n",
            "[0 / 25152]\n",
            "[0 / 25248]\n",
            "[0 / 25344]\n",
            "[0 / 25440]\n",
            "[0 / 25536]\n",
            "[0 / 25632]\n",
            "[0 / 25728]\n",
            "[0 / 25824]\n",
            "[0 / 25920]\n",
            "[0 / 26016]\n",
            "[0 / 26112]\n",
            "[0 / 26208]\n",
            "[0 / 26304]\n",
            "[0 / 26400]\n",
            "[0 / 26496]\n",
            "[0 / 26592]\n",
            "[0 / 26688]\n",
            "[0 / 26784]\n",
            "[0 / 26880]\n",
            "\tTraining loss: 0.1041543111205101\n",
            "\tValidation loss: 0.10414671897888184\n",
            "\n",
            "[0 / 26976]\n",
            "[0 / 27072]\n",
            "[0 / 27168]\n",
            "[0 / 27264]\n",
            "[0 / 27360]\n",
            "[0 / 27456]\n",
            "[0 / 27552]\n",
            "[0 / 27648]\n",
            "[0 / 27744]\n",
            "[0 / 27840]\n",
            "[0 / 27936]\n",
            "[0 / 28032]\n",
            "[0 / 28128]\n",
            "[0 / 28224]\n",
            "[0 / 28320]\n",
            "[0 / 28416]\n",
            "[0 / 28512]\n",
            "[0 / 28608]\n",
            "[0 / 28704]\n",
            "[0 / 28800]\n",
            "\tTraining loss: 0.10414782166481018\n",
            "\tValidation loss: 0.10415025800466537\n",
            "\n",
            "[0 / 28896]\n",
            "[0 / 28992]\n",
            "[0 / 29088]\n",
            "[0 / 29184]\n",
            "[0 / 29280]\n",
            "[0 / 29376]\n",
            "[0 / 29472]\n",
            "[0 / 29568]\n",
            "[0 / 29664]\n",
            "[0 / 29760]\n",
            "[0 / 29856]\n",
            "[0 / 29952]\n",
            "[0 / 30048]\n",
            "[0 / 30144]\n",
            "[0 / 30240]\n",
            "[0 / 30336]\n",
            "[0 / 30432]\n",
            "[0 / 30528]\n",
            "[0 / 30624]\n",
            "[0 / 30720]\n",
            "\tTraining loss: 0.104149229824543\n",
            "\tValidation loss: 0.10415007174015045\n",
            "\n",
            "[0 / 30816]\n",
            "[0 / 30912]\n",
            "[0 / 31008]\n",
            "[0 / 31104]\n",
            "[0 / 31200]\n",
            "[0 / 31296]\n",
            "[0 / 31392]\n",
            "[0 / 31488]\n",
            "[0 / 31584]\n",
            "[0 / 31680]\n",
            "[0 / 31776]\n",
            "[0 / 31872]\n",
            "[0 / 31968]\n",
            "[0 / 32064]\n",
            "[0 / 32160]\n",
            "[0 / 32256]\n",
            "[0 / 32352]\n",
            "[0 / 32448]\n",
            "[0 / 32544]\n",
            "[0 / 32640]\n",
            "\tTraining loss: 0.1041465476155281\n",
            "\tValidation loss: 0.10414914041757584\n",
            "\n",
            "[0 / 32736]\n",
            "[0 / 32832]\n",
            "[0 / 32928]\n",
            "[0 / 33024]\n",
            "[0 / 33120]\n",
            "[0 / 33216]\n",
            "[0 / 33312]\n",
            "[0 / 33408]\n",
            "[0 / 33504]\n",
            "[0 / 33600]\n",
            "[0 / 33696]\n",
            "[0 / 33792]\n",
            "[0 / 33888]\n",
            "[0 / 33984]\n",
            "[0 / 34080]\n",
            "[0 / 34176]\n",
            "[0 / 34272]\n",
            "[0 / 34368]\n",
            "[0 / 34464]\n",
            "[0 / 34560]\n",
            "\tTraining loss: 0.10414634644985199\n",
            "\tValidation loss: 0.10414769500494003\n",
            "\n",
            "[0 / 34656]\n",
            "[0 / 34752]\n",
            "[0 / 34848]\n",
            "[0 / 34944]\n",
            "[0 / 35040]\n",
            "[0 / 35136]\n",
            "[0 / 35232]\n",
            "[0 / 35328]\n",
            "[0 / 35424]\n",
            "[0 / 35520]\n",
            "[0 / 35616]\n",
            "[0 / 35712]\n",
            "[0 / 35808]\n",
            "[0 / 35904]\n",
            "[0 / 36000]\n",
            "[0 / 36096]\n",
            "[0 / 36192]\n",
            "[0 / 36288]\n",
            "[0 / 36384]\n",
            "[0 / 36480]\n",
            "\tTraining loss: 0.10415153205394745\n",
            "\tValidation loss: 0.10415073484182358\n",
            "\n",
            "[0 / 36576]\n",
            "[0 / 36672]\n",
            "[0 / 36768]\n",
            "[0 / 36864]\n",
            "[0 / 36960]\n",
            "[0 / 37056]\n",
            "[0 / 37152]\n",
            "[0 / 37248]\n",
            "[0 / 37344]\n",
            "[0 / 37440]\n",
            "[0 / 37536]\n",
            "[0 / 37632]\n",
            "[0 / 37728]\n",
            "[0 / 37824]\n",
            "[0 / 37920]\n",
            "[0 / 38016]\n",
            "[0 / 38112]\n",
            "[0 / 38208]\n",
            "[0 / 38304]\n",
            "[0 / 38400]\n",
            "\tTraining loss: 0.10415028035640717\n",
            "\tValidation loss: 0.10414949804544449\n",
            "\n",
            "[0 / 38496]\n",
            "[0 / 38592]\n",
            "[0 / 38688]\n",
            "[0 / 38784]\n",
            "[0 / 38880]\n",
            "[0 / 38976]\n",
            "[0 / 39072]\n",
            "[0 / 39168]\n",
            "[0 / 39264]\n",
            "[0 / 39360]\n",
            "[0 / 39456]\n",
            "[0 / 39552]\n",
            "[0 / 39648]\n",
            "[0 / 39744]\n",
            "[0 / 39840]\n",
            "[0 / 39936]\n",
            "[0 / 40032]\n",
            "[0 / 40128]\n",
            "[0 / 40224]\n",
            "[0 / 40320]\n",
            "\tTraining loss: 0.10415215790271759\n",
            "\tValidation loss: 0.10414765030145645\n",
            "\n",
            "[0 / 40416]\n",
            "[0 / 40512]\n",
            "[0 / 40608]\n",
            "[0 / 40704]\n",
            "[0 / 40800]\n",
            "[0 / 40896]\n",
            "[0 / 40992]\n",
            "[0 / 41088]\n",
            "[0 / 41184]\n",
            "[0 / 41280]\n",
            "[0 / 41376]\n",
            "[0 / 41472]\n",
            "[0 / 41568]\n",
            "[0 / 41664]\n",
            "[0 / 41760]\n",
            "[0 / 41856]\n",
            "[0 / 41952]\n",
            "[0 / 42048]\n",
            "[0 / 42144]\n",
            "[0 / 42240]\n",
            "\tTraining loss: 0.1041487380862236\n",
            "\tValidation loss: 0.10415185987949371\n",
            "\n",
            "[0 / 42336]\n",
            "[0 / 42432]\n",
            "[0 / 42528]\n",
            "[0 / 42624]\n",
            "[0 / 42720]\n",
            "[0 / 42816]\n",
            "[0 / 42912]\n",
            "[0 / 43008]\n",
            "[0 / 43104]\n",
            "[0 / 43200]\n",
            "[0 / 43296]\n",
            "[0 / 43392]\n",
            "[0 / 43488]\n",
            "[0 / 43584]\n",
            "[0 / 43680]\n",
            "[0 / 43776]\n",
            "[0 / 43872]\n",
            "[0 / 43968]\n",
            "[0 / 44064]\n",
            "[0 / 44160]\n",
            "\tTraining loss: 0.1041518971323967\n",
            "\tValidation loss: 0.10415122658014297\n",
            "\n",
            "[0 / 44256]\n",
            "[0 / 44352]\n",
            "[0 / 44448]\n",
            "[0 / 44544]\n",
            "[0 / 44640]\n",
            "[0 / 44736]\n",
            "[0 / 44832]\n",
            "[0 / 44928]\n",
            "[0 / 45024]\n",
            "[0 / 45120]\n",
            "[0 / 45216]\n",
            "[0 / 45312]\n",
            "[0 / 45408]\n",
            "[0 / 45504]\n",
            "[0 / 45600]\n",
            "[0 / 45696]\n",
            "[0 / 45792]\n",
            "[0 / 45888]\n",
            "[0 / 45984]\n",
            "[0 / 46080]\n",
            "\tTraining loss: 0.10415297746658325\n",
            "\tValidation loss: 0.10414905846118927\n",
            "\n",
            "[0 / 46176]\n",
            "[0 / 46272]\n",
            "[0 / 46368]\n",
            "[0 / 46464]\n",
            "[0 / 46560]\n",
            "[0 / 46656]\n",
            "[0 / 46752]\n",
            "[0 / 46848]\n",
            "[0 / 46944]\n",
            "[0 / 47040]\n",
            "[0 / 47136]\n",
            "[0 / 47232]\n",
            "[0 / 47328]\n",
            "[0 / 47424]\n",
            "[0 / 47520]\n",
            "[0 / 47616]\n",
            "[0 / 47712]\n",
            "[0 / 47808]\n",
            "[0 / 47904]\n",
            "[0 / 48000]\n",
            "\tTraining loss: 0.10415556281805038\n",
            "\tValidation loss: 0.10415080934762955\n",
            "\n",
            "[0 / 48096]\n",
            "[0 / 48192]\n",
            "[0 / 48288]\n",
            "[0 / 48384]\n",
            "[0 / 48480]\n",
            "[0 / 48576]\n",
            "[0 / 48672]\n",
            "[0 / 48768]\n",
            "[0 / 48864]\n",
            "[0 / 48960]\n",
            "[0 / 49056]\n",
            "[0 / 49152]\n",
            "[0 / 49248]\n",
            "[0 / 49344]\n",
            "[0 / 49440]\n",
            "[0 / 49536]\n",
            "[0 / 49632]\n",
            "[0 / 49728]\n",
            "[0 / 49824]\n",
            "[0 / 49920]\n",
            "\tTraining loss: 0.10414820909500122\n",
            "\tValidation loss: 0.10414814949035645\n",
            "\n",
            "[0 / 50016]\n",
            "[0 / 50112]\n",
            "[0 / 50208]\n",
            "[0 / 50304]\n",
            "[0 / 50400]\n",
            "[0 / 50496]\n",
            "[0 / 50592]\n",
            "[0 / 50688]\n",
            "[0 / 50784]\n",
            "[0 / 50880]\n",
            "[0 / 50976]\n",
            "[0 / 51072]\n",
            "[0 / 51168]\n",
            "[0 / 51264]\n",
            "[0 / 51360]\n",
            "[0 / 51456]\n",
            "[0 / 51552]\n",
            "[0 / 51648]\n",
            "[0 / 51744]\n",
            "[0 / 51840]\n",
            "\tTraining loss: 0.10414963960647583\n",
            "\tValidation loss: 0.10414937883615494\n",
            "\n",
            "[0 / 51936]\n",
            "[0 / 52032]\n",
            "[0 / 52128]\n",
            "[0 / 52224]\n",
            "[0 / 52320]\n",
            "[0 / 52416]\n",
            "[0 / 52512]\n",
            "[0 / 52608]\n",
            "[0 / 52704]\n",
            "[0 / 52800]\n",
            "[0 / 52896]\n",
            "[0 / 52992]\n",
            "[0 / 53088]\n",
            "[0 / 53184]\n",
            "[0 / 53280]\n",
            "[0 / 53376]\n",
            "[0 / 53472]\n",
            "[0 / 53568]\n",
            "[0 / 53664]\n",
            "[0 / 53760]\n",
            "\tTraining loss: 0.10415155440568924\n",
            "\tValidation loss: 0.1041489765048027\n",
            "\n",
            "[0 / 53856]\n",
            "[0 / 53952]\n",
            "[0 / 54048]\n",
            "[0 / 54144]\n",
            "[0 / 54240]\n",
            "[0 / 54336]\n",
            "[0 / 54432]\n",
            "[0 / 54528]\n",
            "[0 / 54624]\n",
            "[0 / 54720]\n",
            "[0 / 54816]\n",
            "[0 / 54912]\n",
            "[0 / 55008]\n",
            "[0 / 55104]\n",
            "[0 / 55200]\n",
            "[0 / 55296]\n",
            "[0 / 55392]\n",
            "[0 / 55488]\n",
            "[0 / 55584]\n",
            "[0 / 55680]\n",
            "\tTraining loss: 0.10415047407150269\n",
            "\tValidation loss: 0.10415077209472656\n",
            "\n",
            "[0 / 55776]\n",
            "[0 / 55872]\n",
            "[0 / 55968]\n",
            "[0 / 56064]\n",
            "[0 / 56160]\n",
            "[0 / 56256]\n",
            "[0 / 56352]\n",
            "[0 / 56448]\n",
            "[0 / 56544]\n",
            "[0 / 56640]\n",
            "[0 / 56736]\n",
            "[0 / 56832]\n",
            "[0 / 56928]\n",
            "[0 / 57024]\n",
            "[0 / 57120]\n",
            "[0 / 57216]\n",
            "[0 / 57312]\n",
            "[0 / 57408]\n",
            "[0 / 57504]\n",
            "[0 / 57600]\n",
            "\tTraining loss: 0.10415180772542953\n",
            "\tValidation loss: 0.10414908081293106\n",
            "\n",
            "[0 / 57696]\n",
            "[0 / 57792]\n",
            "[0 / 57888]\n",
            "[0 / 57984]\n",
            "[0 / 58080]\n",
            "[0 / 58176]\n",
            "[0 / 58272]\n",
            "[0 / 58368]\n",
            "[0 / 58464]\n",
            "[0 / 58560]\n",
            "[0 / 58656]\n",
            "[0 / 58752]\n",
            "[0 / 58848]\n",
            "[0 / 58944]\n",
            "[0 / 59040]\n",
            "[0 / 59136]\n",
            "[0 / 59232]\n",
            "[0 / 59328]\n",
            "Finished training\n",
            "It took 8066.458763360977 seconds to train\n"
          ]
        }
      ],
      "source": [
        "import torch\n",
        "\n",
        "# Check if we want to skip training\n",
        "if USE_CACHED_MODEL is False:\n",
        "\n",
        "    # To measure the time it takes to train\n",
        "    ts = time.time()\n",
        "    \n",
        "    # torch.jit.script to speed up the training\n",
        "    training_history = train_model_online(\n",
        "        net = net,\n",
        "        path = os.path.join(BASE_PATH, \"tmp\"),\n",
        "        parameters = parameters,\n",
        "        train_loader = train_loader,\n",
        "        validation_loader = validation_loader,\n",
        "        name = \"SiameseNetworkOnline\",\n",
        "        logger = logger,\n",
        "        snapshot_iterations = None\n",
        "    )\n",
        "\n",
        "    # Compute how long it took\n",
        "    te = time.time()\n",
        "    print(f\"It took {te - ts} seconds to train\")\n",
        "    \n",
        "    # Update the model cache\n",
        "    filesystem.save_model(net, MODEL_CACHE_FOLDER, \"online_model_cached\")\n",
        "    \n",
        "# In case we skipped training, load the model from cache\n",
        "else:\n",
        "    \n",
        "    # Load the model from cache\n",
        "    net = filesystem.load_model(\n",
        "        os.path.join(MODEL_CACHE_FOLDER, \"online_model_cached\"), \n",
        "        lambda: ResNet18(EMBEDDING_DIMENSION)\n",
        "    )\n",
        "    \n",
        "    # Load the network in corresponding mem device (cpu -> ram, gpu -> gpu mem\n",
        "    device = core.get_device()\n",
        "    net.to(device)"
      ]
    },
    {
      "cell_type": "code",
      "execution_count": 32,
      "id": "0473016a-7a1b-4cd6-9c69-d9326f9f3180",
      "metadata": {
        "id": "0473016a-7a1b-4cd6-9c69-d9326f9f3180",
        "colab": {
          "base_uri": "https://localhost:8080/"
        },
        "outputId": "532b493d-77d5-40af-91a1-e44dc10b2b22"
      },
      "outputs": [
        {
          "output_type": "execute_result",
          "data": {
            "text/plain": [
              "LightModel(\n",
              "  (conv1): Conv2d(1, 4, kernel_size=(3, 3), stride=(1, 1))\n",
              "  (conv2): Conv2d(4, 8, kernel_size=(3, 3), stride=(1, 1))\n",
              "  (conv3): Conv2d(8, 16, kernel_size=(3, 3), stride=(1, 1))\n",
              "  (conv4): Conv2d(16, 32, kernel_size=(3, 3), stride=(1, 1))\n",
              "  (fc): Linear(in_features=3200, out_features=3, bias=True)\n",
              ")"
            ]
          },
          "metadata": {},
          "execution_count": 32
        }
      ],
      "source": [
        "# From this point, we won't perform training on the model\n",
        "# So eval mode is set for better performance \n",
        "net.eval()"
      ]
    },
    {
      "cell_type": "code",
      "execution_count": 33,
      "id": "3ae35995",
      "metadata": {
        "id": "3ae35995",
        "colab": {
          "base_uri": "https://localhost:8080/",
          "height": 276
        },
        "outputId": "84ff660d-10d3-499d-bfc7-ec915c596089"
      },
      "outputs": [
        {
          "output_type": "display_data",
          "data": {
            "text/plain": [
              "<Figure size 432x288 with 1 Axes>"
            ],
            "image/png": "[encoded data removed]"
          },
          "metadata": {
            "needs_background": "light"
          }
        }
      ],
      "source": [
        "# Check if we have to skip this section\n",
        "if USE_CACHED_MODEL is False:\n",
        "        \n",
        "    # In the start, we have too much error that goes down very fast\n",
        "    # So we ignore first 5 values for the metric, improving legibility\n",
        "    # cut = 5\n",
        "    # training_history[\"loss\"] = training_history[\"loss\"][cut:]\n",
        "    # training_history[\"val_loss\"] = training_history[\"val_loss\"][cut:]\n",
        "    \n",
        "    show_learning_curve(training_history)"
      ]
    },
    {
      "cell_type": "markdown",
      "id": "d68b8fef",
      "metadata": {
        "id": "d68b8fef"
      },
      "source": [
        "## Model evaluation"
      ]
    },
    {
      "cell_type": "markdown",
      "id": "f6aaa8b0-37ba-4bbe-9de2-169badb66db6",
      "metadata": {
        "id": "f6aaa8b0-37ba-4bbe-9de2-169badb66db6"
      },
      "source": [
        "Show the \"criterion\" metric on test set"
      ]
    },
    {
      "cell_type": "code",
      "execution_count": 34,
      "id": "5210628c",
      "metadata": {
        "id": "5210628c",
        "colab": {
          "base_uri": "https://localhost:8080/"
        },
        "outputId": "ebb05b45-5037-46b4-eae6-2ab1b2964ab5"
      },
      "outputs": [
        {
          "output_type": "stream",
          "name": "stdout",
          "text": [
            "Test Loss: 0.10415288060903549\n"
          ]
        }
      ],
      "source": [
        "with torch.no_grad():\n",
        "    net.set_permute(False)\n",
        "    \n",
        "    core.test_model_online(net, test_loader, parameters[\"criterion\"], online = True)\n",
        "    \n",
        "    net.set_permute(True)"
      ]
    },
    {
      "cell_type": "markdown",
      "id": "583be3ea-7684-4312-b6af-4462ed77cdda",
      "metadata": {
        "id": "583be3ea-7684-4312-b6af-4462ed77cdda"
      },
      "source": [
        "Now take the classifier from the embedding and use it to compute some classification metrics:"
      ]
    },
    {
      "cell_type": "code",
      "execution_count": 35,
      "id": "f2e58d6f",
      "metadata": {
        "id": "f2e58d6f",
        "scrolled": true
      },
      "outputs": [],
      "source": [
        "with torch.no_grad():\n",
        "    \n",
        "    # Try to clean memory, because we can easily run out of memory\n",
        "    # This provoke the notebook to crash, and all in-memory objects to be lost\n",
        "    try_to_clean_memory()\n",
        "    \n",
        "    # With hopefully enough memory, try to convert the embedding to a classificator\n",
        "    classifier = EmbeddingToClassifier(net, k = NUMBER_NEIGHBOURS, data_loader = train_loader, embedding_dimension = EMBEDDING_DIMENSION)"
      ]
    },
    {
      "cell_type": "markdown",
      "id": "a4363deb-186f-4834-8207-e54099c58abd",
      "metadata": {
        "id": "a4363deb-186f-4834-8207-e54099c58abd"
      },
      "source": [
        "We evaluate this classifier by watching how it works over a small test set. Later we take some metrics from this classifier to evaluate it more precisely.   "
      ]
    },
    {
      "cell_type": "code",
      "execution_count": 36,
      "id": "46acde43",
      "metadata": {
        "id": "46acde43",
        "colab": {
          "base_uri": "https://localhost:8080/"
        },
        "outputId": "221327cf-b937-4adf-e88d-f3d6806bf79b"
      },
      "outputs": [
        {
          "output_type": "stream",
          "name": "stdout",
          "text": [
            "True label: 7, predicted label: 1, correct: False\n",
            "True label: 2, predicted label: 2, correct: True\n",
            "True label: 1, predicted label: 0, correct: False\n",
            "True label: 0, predicted label: 1, correct: False\n",
            "True label: 4, predicted label: 2, correct: False\n",
            "True label: 1, predicted label: 1, correct: True\n",
            "True label: 4, predicted label: 2, correct: False\n",
            "True label: 9, predicted label: 5, correct: False\n",
            "True label: 5, predicted label: 3, correct: False\n",
            "True label: 9, predicted label: 4, correct: False\n",
            "True label: 0, predicted label: 5, correct: False\n",
            "True label: 6, predicted label: 9, correct: False\n",
            "True label: 9, predicted label: 8, correct: False\n",
            "True label: 0, predicted label: 5, correct: False\n",
            "True label: 1, predicted label: 1, correct: True\n",
            "True label: 5, predicted label: 1, correct: False\n",
            "True label: 9, predicted label: 4, correct: False\n",
            "True label: 7, predicted label: 1, correct: False\n",
            "True label: 3, predicted label: 2, correct: False\n",
            "True label: 4, predicted label: 0, correct: False\n"
          ]
        }
      ],
      "source": [
        "with torch.no_grad():\n",
        "\n",
        "    # Shoow only `max_iterations` classifications\n",
        "    counter = 0\n",
        "    max_iterations = 20\n",
        "\n",
        "    for img, img_class in test_dataset:\n",
        "        predicted_class = classifier.predict(img)\n",
        "        print(f\"True label: {img_class}, predicted label: {predicted_class[0]}, correct: {img_class == predicted_class[0]}\")\n",
        "\n",
        "        counter += 1\n",
        "        if counter == max_iterations: break"
      ]
    },
    {
      "cell_type": "markdown",
      "id": "58fa44a0",
      "metadata": {
        "id": "58fa44a0"
      },
      "source": [
        "## Plot of the embedding\n",
        "\n",
        "- If the dimension of the embedding is 2, then we can plot how the transformation to a classificator works:"
      ]
    },
    {
      "cell_type": "code",
      "execution_count": 37,
      "id": "8ab56fa9",
      "metadata": {
        "id": "8ab56fa9"
      },
      "outputs": [],
      "source": [
        "with torch.no_grad():\n",
        "    classifier.scatter_plot()"
      ]
    },
    {
      "cell_type": "markdown",
      "id": "83cea66d",
      "metadata": {
        "id": "83cea66d"
      },
      "source": [
        "## Evaluating the obtained classifier \n",
        "\n",
        "- Now that we adapted our network to a classification task, we can compute some classification metrics"
      ]
    },
    {
      "cell_type": "code",
      "execution_count": 38,
      "id": "27b4ae22",
      "metadata": {
        "id": "27b4ae22",
        "colab": {
          "base_uri": "https://localhost:8080/"
        },
        "outputId": "35051c3f-6ebd-4e9f-cbd6-f2b0e2e8c167"
      },
      "outputs": [
        {
          "output_type": "stream",
          "name": "stderr",
          "text": [
            "/usr/local/lib/python3.7/dist-packages/torch/utils/data/dataloader.py:566: UserWarning: This DataLoader will create 8 worker processes in total. Our suggested max number of worker in current system is 2, which is smaller than what this DataLoader is going to create. Please be aware that excessive worker creation might get DataLoader running slow or even freeze, lower the worker number to avoid potential slowness/freeze if necessary.\n",
            "  cpuset_checked))\n",
            "/usr/local/lib/python3.7/dist-packages/torch/utils/data/dataloader.py:566: UserWarning: This DataLoader will create 8 worker processes in total. Our suggested max number of worker in current system is 2, which is smaller than what this DataLoader is going to create. Please be aware that excessive worker creation might get DataLoader running slow or even freeze, lower the worker number to avoid potential slowness/freeze if necessary.\n",
            "  cpuset_checked))\n"
          ]
        },
        {
          "output_type": "stream",
          "name": "stdout",
          "text": [
            "{'test_acc': 0.2622,\n",
            " 'test_confusion_matrix': array([[331, 123,  76, 138,  62, 135,  34,  40,  11,  30],\n",
            "       [177, 688,  64,  49,  29,  28,  45,  42,   7,   6],\n",
            "       [ 96, 105, 439,  66,  63,  23, 170,  37,  10,  23],\n",
            "       [226, 107, 146, 206,  57, 110,  67,  32,  13,  46],\n",
            "       [142,  94, 171,  80, 147,  62,  68, 100,  23,  95],\n",
            "       [256,  86,  59,  98,  57, 214,  14,  34,  19,  55],\n",
            "       [114, 147, 258,  54,  49,  38, 250,  28,   7,  13],\n",
            "       [132, 153, 158,  74, 147,  56,  46, 177,  13,  72],\n",
            "       [184, 101, 117, 121, 112, 120,  43,  86,  25,  65],\n",
            "       [124,  51, 123, 104, 182, 106,  43, 110,  21, 145]]),\n",
            " 'test_roc_auc': 0.640424925364475,\n",
            " 'test_silhouette': -0.09975128,\n",
            " 'train_acc': 0.31689814814814815,\n",
            " 'train_confusion_matrix': array([[204,  60,  30,  57,  17,  59,  18,  20,   3,  12],\n",
            "       [ 87, 452,  39,  18,  14,  21,  16,  19,   4,   2],\n",
            "       [ 14,  16,  63,   6,   6,   2,  16,   4,   0,   1],\n",
            "       [127,  48,  70, 122,  28,  58,  19,  17,   4,  19],\n",
            "       [ 24,  28,  65,  35,  74,  18,  17,  28,   7,  24],\n",
            "       [149,  50,  36,  66,  44, 148,  11,  19,   8,  13],\n",
            "       [ 82,  88, 175,  38,  28,  15, 161,  11,   3,   7],\n",
            "       [ 51,  48,  65,  28,  54,  20,  11,  76,   3,  28],\n",
            "       [ 62,  34,  39,  39,  37,  39,  17,  22,  15,  16],\n",
            "       [ 33,  16,  50,  44,  55,  42,  10,  36,  12,  54]]),\n",
            " 'train_roc_auc': 0.6944008797466323,\n",
            " 'train_silhouette': -0.07803641}\n"
          ]
        }
      ],
      "source": [
        "with torch.no_grad():\n",
        "    try_to_clean_memory()\n",
        "    classifier.embedder.set_permute(False)\n",
        "    \n",
        "    metrics = evaluate_model(classifier, train_loader, test_loader)\n",
        "    pprint(metrics)\n",
        "    \n",
        "    classifier.embedder.set_permute(True)"
      ]
    }
  ],
  "metadata": {
    "accelerator": "GPU",
    "colab": {
      "collapsed_sections": [
        "d4def6fb",
        "bfcedc5e"
      ],
      "provenance": []
    },
    "kernelspec": {
      "display_name": "Python 3 (ipykernel)",
      "language": "python",
      "name": "python3"
    },
    "language_info": {
      "codemirror_mode": {
        "name": "ipython",
        "version": 3
      },
      "file_extension": ".py",
      "mimetype": "text/x-python",
      "name": "python",
      "nbconvert_exporter": "python",
      "pygments_lexer": "ipython3",
      "version": "3.10.7"
    }
  },
  "nbformat": 4,
  "nbformat_minor": 5
}