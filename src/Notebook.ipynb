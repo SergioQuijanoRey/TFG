{
  "cells": [
    {
      "cell_type": "markdown",
      "id": "58b07228",
      "metadata": {
        "id": "58b07228"
      },
      "source": [
        "\n",
        "# Global Parameters of the Notebook"
      ]
    },
    {
      "cell_type": "code",
      "execution_count": 1,
      "id": "f735abd1",
      "metadata": {
        "id": "f735abd1"
      },
      "outputs": [],
      "source": [
        "# Para definir los path\n",
        "import os\n",
        "\n",
        "# Define si estamos ejecutando el Notebook en nuestro \n",
        "# ordenador (\"local\") o en Google Colab (\"remote\")\n",
        "RUNNING_ENV = \"remote\"\n",
        "\n",
        "# Path que vamos a usar como base para el resto de paths\n",
        "BASE_PATH = \"./\" if RUNNING_ENV == \"local\" else \"/content/drive/MyDrive/Colab Notebooks/\"\n",
        "\n",
        "# Directorio en el que guardamos los scripts de python que usamos \n",
        "# como libreria propia\n",
        "LIB_PATH = os.path.join(BASE_PATH, \"lib\")\n",
        "\n",
        "# Directorio en el que guardamos los datos de entrenamiento y test\n",
        "DATA_PATH = os.path.join(BASE_PATH, \"data\")\n",
        "\n",
        "# Numero de procesos que queremos usar\n",
        "NUM_WORKERS = 2\n",
        "\n",
        "# Batch size que queremos usar para entrenamiento offline\n",
        "DATALOADER_BACH_SIZE = 32\n",
        "\n",
        "# Bath size que queremos usar para entrenamiento online\n",
        "ONLINE_BATCH_SIZE = 2 ** 9\n",
        "\n",
        "# Tamaño del conjunto de triples aleatorios\n",
        "# Tiene que ser un multiplo de DATALOADER_BACH_SIZE para que\n",
        "# la red tome correctamente los batches que espera\n",
        "RANDOM_TRIPLETS_DATA_SIZE = DATALOADER_BACH_SIZE * 15\n",
        "\n",
        "# Numero de epocas para las que queremos entrenar el modelo de triples aleatorios\n",
        "TRAINING_EPOCHS_RANDOM = 10\n",
        "\n",
        "# Learning rate para los triples aleatorios\n",
        "RANDOM_TRIPLET_LEARNING_RATE = 0.001\n",
        " \n",
        "# Numero de epocas por las que queremos entrenar el modelo de triples dificiles online\n",
        "TRAINING_EPOCHS = 3 \n",
        "\n",
        "# Numero de epocas que usamos en k-fold Cross Validation para \n",
        "# hacer la exploracion de los parametros\n",
        "HYPERPARAMETER_TUNING_EPOCHS = 7\n",
        "\n",
        "# Numero de folds que usamos en k-fold Cross Validation para el hyperparameter tuning\n",
        "NUMBER_OF_FOLDS = 4\n",
        "\n",
        "# Margen para la funcion de perdida\n",
        "MARGIN = 0.001\n",
        "\n",
        "# Dimension del embedding que calculamos\n",
        "EMBEDDING_DIMENSION = 2\n",
        "\n",
        "# Learning rate para el entrenamiento con triples dificiles online\n",
        "ONLINE_LEARNING_RATE = 0.01\n",
        "\n",
        "# Numero de vecinos a usar en la adaptacion a clasificador\n",
        "NUMBER_NEIGHBOURS = 3\n",
        "\n",
        "# Semilla aleatoria para aquellas partes en las que fijamos el estado aleatorio\n",
        "RANDOM_SEED = 123456789\n",
        "\n",
        "# Controla si queremos evitar toda la parte del entrenamiento\n",
        "# con triples aleatorios\n",
        "# TODO -- antes de entregar poner a False\n",
        "SKIP_RANDOM_TRIPLETS_TRAINING = True\n",
        "\n",
        "# Controla si queremos entrenar el modelo y usarlo o \n",
        "# no entrenar nada y cargar el modelo entrenado de disco\n",
        "# Cuando es False, entrenamos y ademas actualizamos el modelo \n",
        "# en disco\n",
        "# TODO -- poner esto a False\n",
        "USE_CACHED_MODEL = False\n",
        "MODEL_CACHE_FOLDER = os.path.join(BASE_PATH, \"cached_models\")\n",
        "\n",
        "# Controla si queremos saltarnos o no el hyperparameter \n",
        "# tuning para el entrenamiento online \n",
        "SKIP_HYPERPARAMTER_TUNING = True\n",
        "\n",
        "# Batch Triplet Loss Function\n",
        "# This way we can choose among \"hard\", \"all\"\n",
        "BATCH_TRIPLET_LOSS_FUNCTION = \"hard\"\n",
        "\n",
        "# Wether or not use softplus loss function instead of vanilla triplet loss\n",
        "USE_SOFTPLUS_LOSS = False\n",
        "\n",
        "# Count all sumamnds in the mean loss or only those summands greater than zero\n",
        "USE_GT_ZERO_MEAN_LOSS = True"
      ]
    },
    {
      "cell_type": "markdown",
      "id": "01a1a0d0",
      "metadata": {
        "id": "01a1a0d0"
      },
      "source": [
        "# Autorización si estamos usando Google Drive"
      ]
    },
    {
      "cell_type": "code",
      "execution_count": 2,
      "id": "b1264a2a",
      "metadata": {
        "id": "b1264a2a",
        "colab": {
          "base_uri": "https://localhost:8080/"
        },
        "outputId": "03043b37-2d2b-4be9-8be7-70b305f566ed"
      },
      "outputs": [
        {
          "output_type": "stream",
          "name": "stdout",
          "text": [
            "Drive already mounted at /content/drive; to attempt to forcibly remount, call drive.mount(\"/content/drive\", force_remount=True).\n"
          ]
        }
      ],
      "source": [
        "if RUNNING_ENV == \"remote\":\n",
        "    from google.colab import drive\n",
        "    drive.mount('/content/drive')"
      ]
    },
    {
      "cell_type": "markdown",
      "id": "d1327dec",
      "metadata": {
        "id": "d1327dec"
      },
      "source": [
        "# Importando los módulos que vamos a usar"
      ]
    },
    {
      "cell_type": "code",
      "execution_count": 3,
      "id": "fc75086e",
      "metadata": {
        "id": "fc75086e"
      },
      "outputs": [],
      "source": [
        "import torch\n",
        "import torch.nn as nn\n",
        "import torch.nn.functional as F\n",
        "import torch.optim as optim\n",
        "\n",
        "import torchvision\n",
        "import torchvision.datasets as datasets\n",
        "\n",
        "# Para poder usar ResNet18 preentrenado\n",
        "import torchvision.models as models \n",
        "import torchvision.transforms as transforms\n",
        "\n",
        "from torch.utils.data import Dataset, DataLoader\n",
        "\n",
        "import matplotlib.pyplot as plt\n",
        "import numpy as np\n",
        "import os\n",
        "from datetime import datetime\n",
        "from pprint import pprint\n",
        "import gc\n",
        "import functools\n",
        "import math\n",
        "import seaborn as sns\n",
        "\n",
        "# Todas las piezas concretas que usamos de sklearn\n",
        "from sklearn.metrics import roc_auc_score, accuracy_score, silhouette_score\n",
        "from sklearn.model_selection import ShuffleSplit\n",
        "\n",
        "# Cargamos en el Notebook todos los ficheros .py que definen nuestra propia libreria\n",
        "# Usamos esta libreria para escribir el codigo base necesario para llevar a cabo ciertas\n",
        "# tareas del notebook (como el bucle de entrenamiento) que no tienen interes mostrar\n",
        "# en este notebook\n",
        "!cp -r \"$LIB_PATH\"/* .\n",
        "\n",
        "# Ahora que hemos cargado estos ficheros en el Notebook, importamos lo necesario\n",
        "# de nuestra propia libreria\n",
        "import core\n",
        "import time\n",
        "import copy\n",
        "import board\n",
        "import filesystem\n",
        "import metrics\n",
        "import loss_functions\n",
        "import embedding_to_classifier\n",
        "from train_loggers import ClassificationLogger, SilentLogger, TripletLoggerOffline, TripletLoggerOnline, TrainLogger\n",
        "from models import *\n",
        "from visualizations import *\n",
        "from tqdm.notebook import tqdm\n",
        "from core import train_model_offline, train_model_online\n",
        "from models import ResNet18\n",
        "from loss_functions import MeanTripletBatchTripletLoss, BatchHardTripletLoss, BatchAllTripletLoss\n",
        "from embedding_to_classifier import EmbeddingToClassifier"
      ]
    },
    {
      "cell_type": "markdown",
      "id": "a1e330fb",
      "metadata": {
        "id": "a1e330fb"
      },
      "source": [
        "# Funciones comunes que vamos a usar en el notebook"
      ]
    },
    {
      "cell_type": "code",
      "execution_count": 4,
      "id": "8eb846cd",
      "metadata": {
        "id": "8eb846cd"
      },
      "outputs": [],
      "source": [
        "def show_learning_curve(training_history: dict):\n",
        "    # Tomamos las dos funciones de perdida\n",
        "    loss = training_history['loss']\n",
        "    val_loss = training_history['val_loss']\n",
        "\n",
        "    # Pasamos los elementos a cpu, que es con lo que trabaja\n",
        "    # matplotlib\n",
        "    loss = [loss_el.cpu() for loss_el in loss]\n",
        "    val_loss = [val_loss_el.cpu() for val_loss_el in val_loss]\n",
        "    \n",
        "    # Mostramos las graficas\n",
        "    plt.plot(loss)\n",
        "    plt.plot(val_loss)\n",
        "    plt.legend(['Training loss', 'Validation loss'])\n",
        "    plt.show()\n",
        "    \n",
        "def try_to_clean_memory(): \n",
        "    torch.cuda.empty_cache() \n",
        "    gc.collect()"
      ]
    },
    {
      "cell_type": "markdown",
      "source": [
        "# Random Triplets "
      ],
      "metadata": {
        "id": "wDEKdrG0oNZ_"
      },
      "id": "wDEKdrG0oNZ_"
    },
    {
      "cell_type": "markdown",
      "id": "2c1847bb",
      "metadata": {
        "id": "2c1847bb"
      },
      "source": [
        "## Carga del conjunto de datos\n",
        "\n",
        "- Cargamos los datos de entrenamiento y test\n",
        "- Además, separamos train en train y validación"
      ]
    },
    {
      "cell_type": "code",
      "execution_count": 5,
      "id": "140a184c",
      "metadata": {
        "id": "140a184c"
      },
      "outputs": [],
      "source": [
        "# Transformaciones que queremos aplicar al cargar los datos\n",
        "# Ahora solo pasamos las imagenes a tensores, pero podriamos hacer aqui normalizaciones\n",
        "transform = transforms.Compose([\n",
        "    transforms.ToTensor(),\n",
        "    # TODO -- aqui podemos añadir la normaliazcion de datos\n",
        "])\n",
        "\n",
        "# Cargamos el dataset usando torchvision, que ya tiene el conjunto\n",
        "# preparado para descargar\n",
        "train_dataset = torchvision.datasets.MNIST(\n",
        "    root = DATA_PATH,\n",
        "    train = True,\n",
        "    download = True,\n",
        "    transform = transform,\n",
        ")\n",
        "\n",
        "test_dataset = torchvision.datasets.MNIST(\n",
        "    root = DATA_PATH,\n",
        "    train = False,\n",
        "    download = True,\n",
        "    transform = transform,\n",
        ")\n",
        "\n",
        "# Separamos train en train y validacion\n",
        "train_dataset, validation_dataset = core.split_train_test(train_dataset, 0.8)\n",
        "\n",
        "# Data loaders para acceder a los datos\n",
        "train_loader = torch.utils.data.DataLoader(\n",
        "    train_dataset,\n",
        "    batch_size = DATALOADER_BACH_SIZE,\n",
        "    shuffle = True,\n",
        "    num_workers = NUM_WORKERS,\n",
        "    pin_memory = True,\n",
        ")\n",
        "\n",
        "validation_loader = torch.utils.data.DataLoader(\n",
        "    validation_dataset,\n",
        "    batch_size = DATALOADER_BACH_SIZE,\n",
        "    shuffle = True,\n",
        "    num_workers = NUM_WORKERS,\n",
        "    pin_memory = True,\n",
        ")\n",
        "\n",
        "test_loader = torch.utils.data.DataLoader(\n",
        "  train_dataset,\n",
        "  batch_size = DATALOADER_BACH_SIZE,\n",
        "  shuffle = True,\n",
        "  num_workers = NUM_WORKERS,\n",
        "  pin_memory = True,\n",
        ")"
      ]
    },
    {
      "cell_type": "markdown",
      "id": "e44717f5",
      "metadata": {
        "id": "e44717f5"
      },
      "source": [
        "## Análisis Exploratorio de datos"
      ]
    },
    {
      "cell_type": "markdown",
      "id": "88baf997",
      "metadata": {
        "id": "88baf997"
      },
      "source": [
        "Mostramos algunas imágenes con sus clases para asegurar que hemos cargado correctamente las imágenes del conjunto de datos:"
      ]
    },
    {
      "cell_type": "code",
      "execution_count": 6,
      "id": "ebc478f5",
      "metadata": {
        "id": "ebc478f5",
        "colab": {
          "base_uri": "https://localhost:8080/",
          "height": 1000
        },
        "outputId": "d5d052d0-54e8-4b26-c211-c1e89ac455f3"
      },
      "outputs": [
        {
          "output_type": "stream",
          "name": "stdout",
          "text": [
            "La clase obtenida es: 7\n"
          ]
        },
        {
          "output_type": "display_data",
          "data": {
            "image/png": "[encoded data removed]",
            "text/plain": [
              "<Figure size 432x288 with 1 Axes>"
            ]
          },
          "metadata": {
            "needs_background": "light"
          }
        },
        {
          "output_type": "stream",
          "name": "stdout",
          "text": [
            "La clase obtenida es: 8\n"
          ]
        },
        {
          "output_type": "display_data",
          "data": {
            "image/png": "[encoded data removed]",
            "text/plain": [
              "<Figure size 432x288 with 1 Axes>"
            ]
          },
          "metadata": {
            "needs_background": "light"
          }
        },
        {
          "output_type": "stream",
          "name": "stdout",
          "text": [
            "La clase obtenida es: 7\n"
          ]
        },
        {
          "output_type": "display_data",
          "data": {
            "image/png": "[encoded data removed]",
            "text/plain": [
              "<Figure size 432x288 with 1 Axes>"
            ]
          },
          "metadata": {
            "needs_background": "light"
          }
        },
        {
          "output_type": "stream",
          "name": "stdout",
          "text": [
            "La clase obtenida es: 8\n"
          ]
        },
        {
          "output_type": "display_data",
          "data": {
            "image/png": "[encoded data removed]",
            "text/plain": [
              "<Figure size 432x288 with 1 Axes>"
            ]
          },
          "metadata": {
            "needs_background": "light"
          }
        },
        {
          "output_type": "stream",
          "name": "stdout",
          "text": [
            "La clase obtenida es: 7\n"
          ]
        },
        {
          "output_type": "display_data",
          "data": {
            "image/png": "[encoded data removed]",
            "text/plain": [
              "<Figure size 432x288 with 1 Axes>"
            ]
          },
          "metadata": {
            "needs_background": "light"
          }
        }
      ],
      "source": [
        "imgs_to_show = 5\n",
        "\n",
        "for _ in range(imgs_to_show):\n",
        "\n",
        "    # Cargamos un batch de imagenes\n",
        "    images, images_classes = next(iter(train_loader))\n",
        "\n",
        "    # Nos quedamos con la primera imagen del batch\n",
        "    img, img_class = images[0], images_classes[0]\n",
        "\n",
        "    # Mostramos alguna informacion de la imagen\n",
        "    print(f\"La clase obtenida es: {img_class}\")\n",
        "\n",
        "    # Re-escalamos y mostramos la imagen\n",
        "    img = img.reshape((28, 28))\n",
        "    show_img(img, color_format_range = (-1.0, 1.0))"
      ]
    },
    {
      "cell_type": "markdown",
      "id": "076aaf87",
      "metadata": {
        "id": "076aaf87"
      },
      "source": [
        "Mostramos ahora unas cuantas imágenes de forma simultánea:"
      ]
    },
    {
      "cell_type": "markdown",
      "id": "dfcc5d89",
      "metadata": {
        "id": "dfcc5d89"
      },
      "source": [
        "Mostramos ahora los tamaños del dataset:"
      ]
    },
    {
      "cell_type": "code",
      "execution_count": 7,
      "id": "b6a35e9b",
      "metadata": {
        "id": "b6a35e9b",
        "colab": {
          "base_uri": "https://localhost:8080/"
        },
        "outputId": "abcdfd88-3212-4a6f-e5c4-4d973b4f139b"
      },
      "outputs": [
        {
          "output_type": "stream",
          "name": "stdout",
          "text": [
            "Tenemos 48000 imágenes de entrenamiento\n",
            "Tenemos 10000 imágenes de test\n"
          ]
        }
      ],
      "source": [
        "print(f\"Tenemos {len(train_dataset)} imágenes de entrenamiento\")\n",
        "print(f\"Tenemos {len(test_dataset)} imágenes de test\")"
      ]
    },
    {
      "cell_type": "markdown",
      "id": "c5029063",
      "metadata": {
        "id": "c5029063"
      },
      "source": [
        "## Generación de triples\n",
        "\n",
        "- Para entrenar la red siamesa, necesitamos dar triples con los que computar el *triplet loss*\n",
        "- Por ello, es necesaria una fase previa de *triplets mining*\n",
        "- En todos los casos, crearemos *Datasets* de *Pytorch* para representar la creación de los triples\n",
        "- Hacemos esto basándonos el la [documentación oficial de Pytorch](https://pytorch.org/tutorials/beginner/data_loading_tutorial.html)"
      ]
    },
    {
      "cell_type": "markdown",
      "id": "a772b2e2",
      "metadata": {
        "id": "a772b2e2"
      },
      "source": [
        "### Generación de triples aleatorios\n",
        "\n",
        "- Es la forma más sencilla y directa para generar triples\n",
        "- Usaremos esta generación como baseline para más tarde realizar comparaciones"
      ]
    },
    {
      "cell_type": "code",
      "execution_count": 8,
      "id": "59f54f66",
      "metadata": {
        "id": "59f54f66"
      },
      "outputs": [],
      "source": [
        "from torch.utils.data import RandomSampler\n",
        "\n",
        "class RandomTriplets(Dataset):\n",
        "    \"\"\"\n",
        "    Dataset en el que los elementos son triples obtenidos de forma aleatoria\n",
        "    \"\"\"\n",
        "\n",
        "    def __init__(self, base_data: Dataset, custom_len: int, transform = None):\n",
        "        self.base_data = base_data\n",
        "        self.custom_len = custom_len\n",
        "        self.transform = transform\n",
        "        self.random_sampler = RandomSampler(self.base_data, replacement=True, num_samples=1, generator=None)\n",
        "        \n",
        "        # Por motivos de eficiencia, pre-computamos una lista de listas, de forma\n",
        "        # que tengamos disponibles las listas con las posiciones de cada clase por\n",
        "        # separado.\n",
        "        self.posiciones_clases = self.__precompute_list_of_classes()\n",
        "\n",
        "    def __len__(self):\n",
        "        \"\"\"\n",
        "        Devolvemos el tamaño del dataset\n",
        "        Como estamos generando triples aleatorios, devolvemos el tamaño definido\n",
        "        por parametro\n",
        "        \"\"\"\n",
        "        return self.custom_len\n",
        "\n",
        "    def __getitem__(self, idx) -> Tuple[np.ndarray, np.ndarray, np.ndarray]:\n",
        "        \"\"\"\n",
        "        Funcion que es llamada cuando se hace dataset[idx]\n",
        "        En vez de devolver una imagen (que es lo comun en esta clase dataset), \n",
        "        devolvemos un triple (anchor, positive, negative) aleatorio\n",
        "        \"\"\"\n",
        "\n",
        "        # Hacemos esto por temas de eficiencia\n",
        "        if torch.is_tensor(idx):\n",
        "            idx = idx.tolist()\n",
        "\n",
        "        # Tomamos una imagen aleatoria que sera el ancla\n",
        "        anchor, anchor_class = self.base_data[next(iter(self.random_sampler))]\n",
        "\n",
        "        # Tomamos una imagen de la misma clase, que sera la positiva, de forma aleatoria\n",
        "        random_index = np.random.choice(self.posiciones_clases[anchor_class])\n",
        "        positive, positive_class = self.base_data[random_index]\n",
        "\n",
        "        # Tomamos una imagen de otra clase, que sera la negativa\n",
        "        # Empiezo tomando una clase que no sea la del anchor\n",
        "        posible_classes = list(range(10))\n",
        "        posible_classes.remove(anchor_class)\n",
        "        negative_class = np.random.choice(posible_classes)\n",
        "\n",
        "        # Ahora tomamos un indice aleatorio de esta clase negativa\n",
        "        random_index = np.random.choice(self.posiciones_clases[negative_class])\n",
        "        negative, negative_class = self.base_data[random_index]\n",
        "        \n",
        "        # Generamos ahora el triple\n",
        "        triplet = [anchor, positive, negative]\n",
        "\n",
        "        # Aplicamos la transformacion dada al dataset al ejemplo que devolvemos\n",
        "        if self.transform:\n",
        "            triplet = [self.transform(np.array(img)) for img in triplet]\n",
        "\n",
        "        return triplet\n",
        "\n",
        "    def __precompute_list_of_classes(self) -> List[List[int]]:\n",
        "        \"\"\"\n",
        "        Calcula la lista con las listas de posiciones de cada clase por separado\n",
        "        \"\"\"\n",
        "        # Inicializamos la lista de listas\n",
        "        posiciones_clases = [[] for _ in range(10)]\n",
        "\n",
        "        # Recorremos el dataset y colocamos los indices donde corresponde\n",
        "        for idx, element in enumerate(self.base_data):\n",
        "            _, img_class = element\n",
        "            posiciones_clases[img_class].append(idx)\n",
        "\n",
        "        return posiciones_clases\n",
        "\n",
        "    \n",
        "class CustomReshape(object):\n",
        "    \"\"\"Pasamos la imagen de (28, 1, 28) a (28, 28)\"\"\"\n",
        "\n",
        "    def __call__(self, image):\n",
        "        image = image.reshape(28, 28)\n",
        "        return image"
      ]
    },
    {
      "cell_type": "code",
      "execution_count": 9,
      "id": "2b4cbf68",
      "metadata": {
        "id": "2b4cbf68"
      },
      "outputs": [],
      "source": [
        "# Controlamos si queremos ejecutar esta seccion o no \n",
        "if SKIP_RANDOM_TRIPLETS_TRAINING is False:\n",
        "   \n",
        "    # Antes de modificar la base de datos para convertirla a triples\n",
        "    # la guardamos, porque mas adelante nos hara falta\n",
        "    old_train_dataset = train_dataset\n",
        "    old_test_dataset = test_dataset\n",
        "\n",
        "    # Necesitamos hacer reshape de las imagenes para que\n",
        "    # sean (28, 28) y no (28, 1, 28)\n",
        "    transform = transforms.Compose([\n",
        "        transforms.ToTensor(),\n",
        "\n",
        "        # Hacemos reshape de las imagenes para\n",
        "        # que sean tensores (28, 28)\n",
        "        CustomReshape(),\n",
        "    ])\n",
        "\n",
        "    # Generamos los triples aleatorios para training\n",
        "    random_triplets_train = RandomTriplets(\n",
        "        base_data = train_dataset,\n",
        "        custom_len = RANDOM_TRIPLETS_DATA_SIZE,\n",
        "        transform = transform,\n",
        "    )\n",
        "\n",
        "    train_loader = torch.utils.data.DataLoader(\n",
        "        random_triplets_train,\n",
        "        batch_size = DATALOADER_BACH_SIZE,\n",
        "        shuffle = True,\n",
        "        num_workers = NUM_WORKERS,\n",
        "        pin_memory = True,\n",
        "    )\n",
        "\n",
        "    # Generamos los triples aleatorios para validacion\n",
        "    random_triplets_validation = RandomTriplets(\n",
        "        base_data = validation_dataset,\n",
        "        custom_len = RANDOM_TRIPLETS_DATA_SIZE,\n",
        "        transform = transform,\n",
        "    )\n",
        "\n",
        "    validation_loader = torch.utils.data.DataLoader(\n",
        "        random_triplets_validation,\n",
        "        batch_size = DATALOADER_BACH_SIZE,\n",
        "        shuffle = True,\n",
        "        num_workers = NUM_WORKERS,\n",
        "        pin_memory = True,\n",
        "    )\n",
        "\n",
        "    # Generamos los triples aleatorios para test\n",
        "    random_triplets_test = RandomTriplets(\n",
        "        base_data = test_dataset,\n",
        "        custom_len = RANDOM_TRIPLETS_DATA_SIZE,\n",
        "        transform = transform,\n",
        "    )\n",
        "\n",
        "    test_loader = torch.utils.data.DataLoader(\n",
        "        random_triplets_test,\n",
        "        batch_size = DATALOADER_BACH_SIZE,\n",
        "        shuffle = True,\n",
        "        num_workers = NUM_WORKERS,\n",
        "        pin_memory = True,\n",
        "    )\n",
        "\n",
        "    # Visualizamos algunos triples aleatorios para comprobar el funcionamiento\n",
        "    custom_triplet = random_triplets_train[2]\n",
        "    for i in custom_triplet :\n",
        "        show_img(i, color_format_range = (-1.0, 1.0))\n"
      ]
    },
    {
      "cell_type": "markdown",
      "id": "58b0c7d0",
      "metadata": {
        "id": "58b0c7d0"
      },
      "source": [
        "## Entrenamiento del modelo"
      ]
    },
    {
      "cell_type": "code",
      "execution_count": 10,
      "id": "569ed64d",
      "metadata": {
        "id": "569ed64d",
        "colab": {
          "base_uri": "https://localhost:8080/"
        },
        "outputId": "a9a9e9db-3ebb-45a6-b803-fc834a94dc0a"
      },
      "outputs": [
        {
          "output_type": "stream",
          "name": "stdout",
          "text": [
            "LightModel(\n",
            "  (conv1): Conv2d(1, 4, kernel_size=(3, 3), stride=(1, 1))\n",
            "  (conv2): Conv2d(4, 8, kernel_size=(3, 3), stride=(1, 1))\n",
            "  (conv3): Conv2d(8, 16, kernel_size=(3, 3), stride=(1, 1))\n",
            "  (conv4): Conv2d(16, 32, kernel_size=(3, 3), stride=(1, 1))\n",
            "  (fc): Linear(in_features=3200, out_features=2, bias=True)\n",
            ")\n"
          ]
        }
      ],
      "source": [
        "net = LightModel(EMBEDDING_DIMENSION)\n",
        "\n",
        "# TODO -- fijar bien los parametros\n",
        "parameters = dict()\n",
        "parameters[\"epochs\"] = TRAINING_EPOCHS_RANDOM\n",
        "parameters[\"lr\"] = RANDOM_TRIPLET_LEARNING_RATE\n",
        "parameters[\"criterion\"] = MeanTripletBatchTripletLoss(MARGIN, use_softplus = USE_SOFTPLUS_LOSS)\n",
        "\n",
        "# Definimos el logger que queremos para el entrenamiento\n",
        "logger = TripletLoggerOffline(\n",
        "    net = net,\n",
        "    iterations = 10 * DATALOADER_BACH_SIZE,\n",
        "    loss_func = parameters[\"criterion\"],\n",
        ")\n",
        "\n",
        "print(net)"
      ]
    },
    {
      "cell_type": "code",
      "execution_count": 11,
      "id": "5bc94a2d",
      "metadata": {
        "id": "5bc94a2d"
      },
      "outputs": [],
      "source": [
        "# Controlamos si queremos ejecutar esta seccion o no \n",
        "if SKIP_RANDOM_TRIPLETS_TRAINING is False:\n",
        "\n",
        "    training_history = train_model_offline(\n",
        "        net = net,\n",
        "        path = os.path.join(BASE_PATH, \"tmp\"),\n",
        "        parameters = parameters,\n",
        "        train_loader = train_loader,\n",
        "        validation_loader = validation_loader,\n",
        "        name = \"SiameseNetwork\",\n",
        "        logger = logger,\n",
        "        snapshot_iterations = None\n",
        "    )"
      ]
    },
    {
      "cell_type": "code",
      "execution_count": 12,
      "id": "f312e365",
      "metadata": {
        "id": "f312e365"
      },
      "outputs": [],
      "source": [
        "# Controlamos si queremos ejecutar esta seccion o no \n",
        "if SKIP_RANDOM_TRIPLETS_TRAINING is False: show_learning_curve(training_history)"
      ]
    },
    {
      "cell_type": "code",
      "execution_count": 13,
      "id": "5cedfac4",
      "metadata": {
        "id": "5cedfac4",
        "colab": {
          "base_uri": "https://localhost:8080/"
        },
        "outputId": "7fe3dc61-36e1-4570-ebc2-918cbfc125cb"
      },
      "outputs": [
        {
          "output_type": "execute_result",
          "data": {
            "text/plain": [
              "LightModel(\n",
              "  (conv1): Conv2d(1, 4, kernel_size=(3, 3), stride=(1, 1))\n",
              "  (conv2): Conv2d(4, 8, kernel_size=(3, 3), stride=(1, 1))\n",
              "  (conv3): Conv2d(8, 16, kernel_size=(3, 3), stride=(1, 1))\n",
              "  (conv4): Conv2d(16, 32, kernel_size=(3, 3), stride=(1, 1))\n",
              "  (fc): Linear(in_features=3200, out_features=2, bias=True)\n",
              ")"
            ]
          },
          "metadata": {},
          "execution_count": 13
        }
      ],
      "source": [
        "# A partir de este punto ya no volvemos a entrenar el modelo\n",
        "# Asi que lo ponemos en modo evaluacion para que no lleve \n",
        "# la cuenta de los gradientes\n",
        "net.eval()"
      ]
    },
    {
      "cell_type": "markdown",
      "id": "967f2783",
      "metadata": {
        "id": "967f2783"
      },
      "source": [
        "## Evaluación del modelo\n",
        "\n",
        "- Mostramos algunas métricas fundamentales sobre el conjunto de"
      ]
    },
    {
      "cell_type": "code",
      "execution_count": 14,
      "id": "c60be0c4",
      "metadata": {
        "id": "c60be0c4"
      },
      "outputs": [],
      "source": [
        "# Controlamos si queremos ejecutar esta seccion o no \n",
        "if SKIP_RANDOM_TRIPLETS_TRAINING is False: \n",
        "    with torch.no_grad(): core.test_model(net, test_loader, parameters[\"criterion\"])"
      ]
    },
    {
      "cell_type": "markdown",
      "source": [
        "We use the adapter to classification task to have more metrics about the model:"
      ],
      "metadata": {
        "id": "oOPlWZWYu7cR"
      },
      "id": "oOPlWZWYu7cR"
    },
    {
      "cell_type": "code",
      "execution_count": 15,
      "id": "29f14b37",
      "metadata": {
        "id": "29f14b37",
        "scrolled": true
      },
      "outputs": [],
      "source": [
        "# Controlamos si queremos ejecutar esta seccion o no \n",
        "if SKIP_RANDOM_TRIPLETS_TRAINING is False:\n",
        "    with torch.no_grad():\n",
        "    \n",
        "        # Cargamos el dataset usando torchvision, que ya tiene el conjunto\n",
        "        # preparado para descargar\n",
        "        train_dataset = old_train_dataset\n",
        "        test_dataset = old_test_dataset\n",
        "    \n",
        "        # Data loaders para acceder a los datos\n",
        "        train_loader = torch.utils.data.DataLoader(\n",
        "            train_dataset,\n",
        "            batch_size = DATALOADER_BACH_SIZE,\n",
        "            shuffle = True,\n",
        "            num_workers = NUM_WORKERS,\n",
        "            pin_memory = True,\n",
        "        )\n",
        "        test_loader = torch.utils.data.DataLoader(\n",
        "            test_dataset,\n",
        "            batch_size = DATALOADER_BACH_SIZE,\n",
        "            shuffle = True,\n",
        "            num_workers = NUM_WORKERS,\n",
        "            pin_memory = True,\n",
        "        )\n",
        "    \n",
        "    \n",
        "        classifier = EmbeddingToClassifier(\n",
        "            net, \n",
        "            k = NUMBER_NEIGHBOURS, \n",
        "            data_loader = train_loader,\n",
        "            embedding_dimension = EMBEDDING_DIMENSION\n",
        "        )"
      ]
    },
    {
      "cell_type": "markdown",
      "id": "ae61cab8",
      "metadata": {
        "id": "ae61cab8"
      },
      "source": [
        "Evaluamos este clasificador en un conjunto pequeño de imágenes de test. Más adelante tomamos métricas de dicho clasificador:"
      ]
    },
    {
      "cell_type": "code",
      "execution_count": 16,
      "id": "f2b77a7a",
      "metadata": {
        "id": "f2b77a7a"
      },
      "outputs": [],
      "source": [
        "# Controlamos si queremos ejecutar esta seccion o no \n",
        "if SKIP_RANDOM_TRIPLETS_TRAINING is False:\n",
        "    with torch.no_grad():\n",
        "    \n",
        "        # Hacemos esto y no `in test_dataset[:max_iterations]`\n",
        "        # para no tener que tomar todo el dataset y quedarnos con\n",
        "        # una parte de el, que es un proceso mucho mas lento que usar\n",
        "        # el iterador que da `in test_dataset` y parar con el contador\n",
        "        counter = 0\n",
        "        max_iterations = 20\n",
        "    \n",
        "        for img, img_class in test_dataset:\n",
        "            predicted_class = classifier.predict(img)\n",
        "            print(f\"Etiqueta verdadera: {img_class}, etiqueta predicha: {predicted_class[0]}\")\n",
        "    \n",
        "            # Actualizamos el contador\n",
        "            counter += 1\n",
        "            if counter == max_iterations: break"
      ]
    },
    {
      "cell_type": "markdown",
      "id": "d4def6fb",
      "metadata": {
        "id": "d4def6fb"
      },
      "source": [
        "## Plot del embedding\n",
        "\n",
        "- Aprovechamos el cálculo realizado en la clase que realiza la adaptación a clasificación para mostrar gráficamente el embedding calculado\n",
        "- Esta gráfica solo la visualizamos cuando el embedding tiene dimensión 2"
      ]
    },
    {
      "cell_type": "code",
      "execution_count": 17,
      "id": "47c93584",
      "metadata": {
        "id": "47c93584"
      },
      "outputs": [],
      "source": [
        "# Controlamos si queremos ejecutar esta seccion o no \n",
        "if SKIP_RANDOM_TRIPLETS_TRAINING is False: \n",
        "    with torch.no_grad(): classifier.scatter_plot()"
      ]
    },
    {
      "cell_type": "markdown",
      "id": "bfcedc5e",
      "metadata": {
        "id": "bfcedc5e"
      },
      "source": [
        "## Evaluación del clasificador obtenido\n",
        "\n",
        "- Ahora que hemos adaptado el modelo para usarlo como clasificador, podemos consultar ciertas métricas de clasificación"
      ]
    },
    {
      "cell_type": "code",
      "execution_count": 18,
      "id": "ef6bcfa1",
      "metadata": {
        "id": "ef6bcfa1"
      },
      "outputs": [],
      "source": [
        "from sklearn.metrics import confusion_matrix\n",
        "\n",
        "def calculate_roc_auc(true_labels_prob: np.array, predicted_labels_prob: np.array) -> float:\n",
        "    \"\"\"\n",
        "    Calcula el area bajo la curva ROC, dadas las etiquetas verdaderas y las\n",
        "    etiqeutas predichas por un modelo\n",
        "    \n",
        "    Las listas de etiquetas deben ser etiquetas probabilisticas\n",
        "    \"\"\"\n",
        "    return roc_auc_score(true_labels_prob, predicted_labels_prob, multi_class = \"ovo\")\n",
        "    \n",
        "def calculate_accuracy(true_labels: np.array, predicted_labels: np.array) -> float:\n",
        "    \"\"\"\n",
        "    Calcula el accuracy, dadas las etiquetas verdaderas y las\n",
        "    etiqeutas predichas por un modelo\n",
        "    \"\"\"\n",
        "    return accuracy_score(true_labels, predicted_labels)\n",
        "\n",
        "def calculate_silhouette(x, y):\n",
        "    \"\"\"Calcula el indice de silhouette para el embedding calculado por el modelo\"\"\"\n",
        "    return silhouette_score(x, y)\n",
        "\n",
        "def evaluate_model(model, train_loader, test_loader) -> dict:\n",
        "    \"\"\"\n",
        "    Evalua, usando distintas metricas, el modelo que hemos entrenado\n",
        "    Tambien evaluamos el embedding obtenido, no solo el clasificador\n",
        "    \n",
        "    Devuelve un diccionario con todas las metricas calculadas con el modelo\n",
        "    \"\"\"\n",
        "    \n",
        "    # Diccionario en el que vamos a almacenar todas las metricas\n",
        "    metrics = dict()\n",
        "    \n",
        "    # Tomamos los arrays en formato adecuado para calcular ciertas metricas\n",
        "    x_train, y_train = EmbeddingToClassifier(net, k = NUMBER_NEIGHBOURS, data_loader = train_loader, embedding_dimension = EMBEDDING_DIMENSION).prepare_data_for_sklearn()\n",
        "    x_test, y_test = EmbeddingToClassifier(net, k = NUMBER_NEIGHBOURS, data_loader = test_loader, embedding_dimension = EMBEDDING_DIMENSION).prepare_data_for_sklearn()\n",
        "    \n",
        "    # Empezamos usando el modelo para realizar las predicciones+\n",
        "    # Usamos predicciones probabilisticas pues estas son fundamentales para\n",
        "    # la metrica roc auc\n",
        "    train_predicted_labels_prob = model.predict_proba_using_embedding(x_train)\n",
        "    test_predicted_labels_prob = model.predict_proba_using_embedding(x_test)\n",
        "\n",
        "    # Tomamos ahora las etiqeutas sin probabilidad\n",
        "    train_predicted_labels= model.predict_using_embedding(x_train)\n",
        "    test_predicted_labels = model.predict_using_embedding(x_test)\n",
        "    \n",
        "    # Tomamos las metricas de accuracy\n",
        "    metrics[\"train_acc\"] = calculate_accuracy(y_train, train_predicted_labels)\n",
        "    metrics[\"test_acc\"] = calculate_accuracy(y_test, test_predicted_labels)\n",
        "    \n",
        "    # Tomamos las areas bajo la curva ROC\n",
        "    metrics[\"train_roc_auc\"] = calculate_roc_auc(y_train, train_predicted_labels_prob)\n",
        "    metrics[\"test_roc_auc\"] = calculate_roc_auc(y_test, test_predicted_labels_prob)\n",
        "    \n",
        "    # Tomamos el indice de silhouette\n",
        "    metrics[\"train_silhouette\"] = calculate_silhouette(x_train, y_train)\n",
        "    metrics[\"test_silhouette\"] = calculate_silhouette(x_test, y_test)\n",
        "    \n",
        "    #Calculamos Matriz de confusion\n",
        "    metrics[\"train_confusion_matrix\"]=confusion_matrix(y_train, train_predicted_labels)\n",
        "    metrics[\"test_confusion_matrix\"]=confusion_matrix(y_test, test_predicted_labels)\n",
        "    \n",
        "    # Devolvemos las metricas en formato diccionario, que nos va a ser comodo para\n",
        "    # pasarlas a tablas y para mostrar muchas metricas simultaneamente\n",
        "    return metrics\n",
        "\n",
        "\n",
        "def plot_confusion_matrix(train_confusion_matrix,test_confusion_matrix):\n",
        "    \"\"\"\n",
        "    Mostramos graficamente (mapa de calor) la matriz de confusion\n",
        "    \n",
        "    Podriamos mostrar directamente los valores de la matriz, pero al estar\n",
        "    trabajando con 25 clases es mas dificil de interpretar\n",
        "    \"\"\"\n",
        "    \n",
        "    # Mostramos graficamente las dos matrices de confusion\n",
        "    color_palette = sns.color_palette(\"viridis\", as_cmap=True)\n",
        "    print(\"Matriz de confusion en TRAIN\")\n",
        "    sns.heatmap(train_confusion_matrix, annot = False, cmap = color_palette, fmt=\"d\")\n",
        "    plt.show()\n",
        "    \n",
        "    print(\"Matriz de confusion en TEST\")\n",
        "    sns.heatmap(test_confusion_matrix, annot = False, cmap = color_palette)\n",
        "    plt.show()"
      ]
    },
    {
      "cell_type": "code",
      "execution_count": 19,
      "id": "f7dc2fcb",
      "metadata": {
        "id": "f7dc2fcb"
      },
      "outputs": [],
      "source": [
        "# Controlamos si queremos ejecutar esta seccion o no \n",
        "if SKIP_RANDOM_TRIPLETS_TRAINING is False:\n",
        "    with torch.no_grad():\n",
        "    \n",
        "        classifier.embedder.set_permute(False)\n",
        "    \n",
        "        metrics = evaluate_model(classifier, train_loader, test_loader)\n",
        "        pprint(metrics)\n",
        "    \n",
        "        classifier.embedder.set_permute(True)"
      ]
    },
    {
      "cell_type": "markdown",
      "source": [
        "# Online Batch Triplets"
      ],
      "metadata": {
        "id": "OXxDVsblof-O"
      },
      "id": "OXxDVsblof-O"
    },
    {
      "cell_type": "markdown",
      "source": [
        "## Choose the loss function to use \n",
        "\n",
        "- We have so many combinations for loss functions that is not feasible to use one Colab section for each\n",
        "- Combinations depend on:\n",
        "    1. Batch hard vs Batch all \n",
        "    2. Classical triplet loss vs Softplus loss\n",
        "    3. All summands mean vs Only > 0 summands mean"
      ],
      "metadata": {
        "id": "IDZBu1P-o4TM"
      },
      "id": "IDZBu1P-o4TM"
    },
    {
      "cell_type": "code",
      "source": [
        "batch_loss_function = None\n",
        "if BATCH_TRIPLET_LOSS_FUNCTION == \"hard\":\n",
        "    batch_loss_function = BatchHardTripletLoss(MARGIN, use_softplus = USE_SOFTPLUS_LOSS, use_gt_than_zero_mean = USE_GT_ZERO_MEAN_LOSS) \n",
        "if BATCH_TRIPLET_LOSS_FUNCTION == \"all\":\n",
        "    batch_loss_function = BatchAllTripletLoss(MARGIN, use_softplus = USE_SOFTPLUS_LOSS, use_gt_than_zero_mean =  USE_GT_ZERO_MEAN_LOSS) \n",
        "\n",
        "# Sanity check\n",
        "if batch_loss_function is None:\n",
        "    raise Exception(f\"BATCH_TRIPLET_LOSS global parameter got unexpected value: {BATCH_TRIPLET_LOSS_FUNCTION}\")"
      ],
      "metadata": {
        "id": "lU4wWC-GpHdI"
      },
      "id": "lU4wWC-GpHdI",
      "execution_count": 20,
      "outputs": []
    },
    {
      "cell_type": "markdown",
      "source": [
        "## Sampling function"
      ],
      "metadata": {
        "id": "jR-wq35cyKk8"
      },
      "id": "jR-wq35cyKk8"
    },
    {
      "cell_type": "code",
      "source": [
        "# TODO -- delete this useless import\n",
        "import torch\n",
        "from typing import Iterator\n",
        "import random\n",
        "\n",
        "class CustomSampler(torch.utils.data.Sampler):\n",
        "    \"\"\"\n",
        "    Custom dataloader that implements the sampling explained in the reference paper\n",
        "\n",
        "    In this sampling, in order to generate each minibatch, the following is done:\n",
        "        1. Sample randomly P classes from all available classes\n",
        "        2. For each class, sample randomly K elements\n",
        "\n",
        "    Also, in the paper, they suggest that P and K should be chosen such as \n",
        "    P * K \\approx 3 * n ; beign n an integer. That suggestion comes from experimentation\n",
        "    \"\"\" \n",
        "\n",
        "    def __init__(self, P: int, K: int, dataset: torch.utils.data.Dataset):\n",
        "        self.P = P\n",
        "        self.K = K\n",
        "        self.dataset = dataset\n",
        "        self.labels = self.dataset.targets\n",
        "\n",
        "    def __iter__(self) -> Iterator:\n",
        "        yield random.randint(0, 20)\n",
        "\n",
        "    def __len__(self) -> int:\n",
        "        \"\"\"Len of each given sample. As we are choosing P classes, and for each\n",
        "        class K images, len is always P * K\"\"\"\n",
        "\n",
        "        # TODO -- remove this return \n",
        "        return 1\n",
        "\n",
        "        return self.P * self.K\n",
        "\n",
        "# TODO -- this is not working\n",
        "class BalancedBatchSampler(torch.utils.data.BatchSampler):\n",
        "    \"\"\"\n",
        "    BatchSampler - from a MNIST-like dataset, samples n_classes and within these classes samples n_samples.\n",
        "    Returns batches of size n_classes * n_samples\n",
        "\n",
        "    Source: https://github.com/adambielski/siamese-triplet/blob/master/datasets.py\n",
        "    \"\"\"\n",
        "\n",
        "    def __init__(self, labels, n_classes, n_samples):\n",
        "        self.labels = labels\n",
        "        self.labels_set = list(set(self.labels.numpy()))\n",
        "        self.label_to_indices = {label: np.where(self.labels.numpy() == label)[0]\n",
        "                                 for label in self.labels_set}\n",
        "        for l in self.labels_set:\n",
        "            np.random.shuffle(self.label_to_indices[l])\n",
        "        self.used_label_indices_count = {label: 0 for label in self.labels_set}\n",
        "        self.count = 0\n",
        "        self.n_classes = n_classes\n",
        "        self.n_samples = n_samples\n",
        "        self.n_dataset = len(self.labels)\n",
        "        self.batch_size = self.n_samples * self.n_classes\n",
        "\n",
        "    def __iter__(self):\n",
        "        self.count = 0\n",
        "        while self.count + self.batch_size < self.n_dataset:\n",
        "            classes = np.random.choice(self.labels_set, self.n_classes, replace=False)\n",
        "            indices = []\n",
        "            for class_ in classes:\n",
        "                indices.extend(self.label_to_indices[class_][\n",
        "                               self.used_label_indices_count[class_]:self.used_label_indices_count[\n",
        "                                                                         class_] + self.n_samples])\n",
        "                \n",
        "                self.used_label_indices_count[class_] += self.n_samples\n",
        "                if self.used_label_indices_count[class_] + self.n_samples > len(self.label_to_indices[class_]):\n",
        "                    np.random.shuffle(self.label_to_indices[class_])\n",
        "                    self.used_label_indices_count[class_] = 0\n",
        "            yield indices\n",
        "            self.count += self.n_classes * self.n_samples\n",
        "\n",
        "    def __len__(self):\n",
        "        return self.n_dataset // self.batch_size\n"
      ],
      "metadata": {
        "id": "k1hW4dtbyPRL"
      },
      "id": "k1hW4dtbyPRL",
      "execution_count": 21,
      "outputs": []
    },
    {
      "cell_type": "markdown",
      "id": "7378947c",
      "metadata": {
        "id": "7378947c"
      },
      "source": [
        "## Load again the data\n",
        "\n",
        "- With this online loss function we no longer need to compute triplets in an offline way\n",
        "- So we load the data again, so we have the original data without precomputed triplets \n",
        "- Also, use custom sampler to choose, for each minibatch, P classes and K elements for each class"
      ]
    },
    {
      "cell_type": "code",
      "execution_count": 22,
      "id": "8425cd40",
      "metadata": {
        "id": "8425cd40"
      },
      "outputs": [],
      "source": [
        "# Transformaciones que queremos aplicar al cargar los datos\n",
        "# Ahora solo pasamos las imagenes a tensores, pero podriamos hacer aqui normalizaciones\n",
        "transform = transforms.Compose([\n",
        "    transforms.ToTensor(),\n",
        "    # TODO -- aqui podemos añadir la normaliazcion de datos\n",
        "])\n",
        "\n",
        "# Cargamos el dataset usando torchvision, que ya tiene el conjunto\n",
        "# preparado para descargar\n",
        "train_dataset = torchvision.datasets.MNIST(\n",
        "    root = DATA_PATH,\n",
        "    train = True,\n",
        "    download = True,\n",
        "    transform = transform,\n",
        ")\n",
        "\n",
        "test_dataset = torchvision.datasets.MNIST(\n",
        "    root = DATA_PATH,\n",
        "    train = False,\n",
        "    download = True,\n",
        "    transform = transform,\n",
        ")\n",
        "\n",
        "# Separamos train en train y validacion\n",
        "train_dataset, validation_dataset = core.split_train_test(train_dataset, 0.8)\n",
        "\n",
        "# Dont work with subsets\n",
        "train_dataset, validation_dataset = train_dataset.dataset, validation_dataset.dataset\n",
        "\n",
        "# Data loaders para acceder a los datos\n",
        "train_labels = train_dataset.targets\n",
        "train_loader = torch.utils.data.DataLoader(\n",
        "    train_dataset,\n",
        "    batch_size = ONLINE_BATCH_SIZE,\n",
        "    #shuffle = True,\n",
        "    num_workers = NUM_WORKERS, \n",
        "    pin_memory = True,\n",
        "    # TODO -- using magic numbers\n",
        "    sampler = CustomSampler(3, 16, train_dataset)\n",
        ")\n",
        "\n",
        "validation_labels = validation_dataset.targets\n",
        "validation_loader = torch.utils.data.DataLoader(\n",
        "    validation_dataset,\n",
        "    batch_size = ONLINE_BATCH_SIZE,\n",
        "    #shuffle = True,\n",
        "    num_workers = NUM_WORKERS, \n",
        "    pin_memory = True,\n",
        "    # TODO -- using magic numbers\n",
        "    # Maybe here I can use default sampler?\n",
        "    sampler = CustomSampler(3, 16, validation_dataset)\n",
        ")\n",
        "\n",
        "test_loader = torch.utils.data.DataLoader(\n",
        "  test_dataset,\n",
        "  batch_size = ONLINE_BATCH_SIZE,\n",
        "  shuffle = True,\n",
        "  num_workers = NUM_WORKERS,\n",
        "  pin_memory = True,\n",
        ")"
      ]
    },
    {
      "cell_type": "markdown",
      "id": "5593607e",
      "metadata": {
        "id": "5593607e"
      },
      "source": [
        "## Hyperparameter tuning"
      ]
    },
    {
      "cell_type": "code",
      "execution_count": 23,
      "id": "867bd047",
      "metadata": {
        "id": "867bd047"
      },
      "outputs": [],
      "source": [
        "def custom_cross_validation(net, parameters, train_dataset, k):\n",
        "    \"\"\"Funcion propia para hacer k-fold cross validation de una red convolucional\"\"\"\n",
        "\n",
        "    # Definimos la forma en la que vamos a hacer el split de los folds\n",
        "    ss = ShuffleSplit(n_splits=k, test_size=0.25, random_state=RANDOM_SEED)\n",
        "    \n",
        "    # Lista en la que guardamos las perdidas encontradas en cada fold\n",
        "    losses = []\n",
        "\n",
        "    # Iteramos usando el split que nos da sklearn\n",
        "    for train_index, validation_index in ss.split(train_dataset):\n",
        "        \n",
        "        # Tenemos los indices de los elementos, asi que tomamos los dos datasets\n",
        "        # usando dichos indices\n",
        "        train_fold = [train_dataset[idx] for idx in train_index]\n",
        "        validation_fold = [train_dataset[idx] for idx in validation_index]\n",
        "\n",
        "        # Transformamos los datasets en dataloaders\n",
        "        train_loader = torch.utils.data.DataLoader(\n",
        "            train_fold,\n",
        "            batch_size = ONLINE_BATCH_SIZE,\n",
        "            shuffle = True,\n",
        "            num_workers = NUM_WORKERS,\n",
        "            pin_memory = True,\n",
        "        )\n",
        "        validation_loader = torch.utils.data.DataLoader(\n",
        "            validation_fold,\n",
        "            batch_size = ONLINE_BATCH_SIZE,\n",
        "            shuffle = True,\n",
        "            num_workers = NUM_WORKERS,\n",
        "            pin_memory = True,\n",
        "        )\n",
        "\n",
        "        # Entrenamos la red\n",
        "        _ = train_model_online(\n",
        "            net = net,\n",
        "            path = os.path.join(BASE_PATH, \"tmp\"),\n",
        "            parameters = parameters,\n",
        "            train_loader = train_loader,\n",
        "            validation_loader = validation_loader,\n",
        "            name = \"SiameseNetworkOnline\",\n",
        "            logger = SilentLogger(),\n",
        "            snapshot_iterations = None\n",
        "        )\n",
        "\n",
        "        # Evaluamos la red en el fold de validacion\n",
        "        net.eval()\n",
        "        loss = metrics.calculate_mean_triplet_loss_online(net, validation_loader, parameters[\"criterion\"], 1.0)\n",
        "        loss = float(loss) # Pasamos el tensor de un unico elemento a un float simple\n",
        "\n",
        "        # Añadimos el loss a nuestra lista\n",
        "        losses.append(loss)\n",
        "    \n",
        "    # Devolvemos el array en formato numpy para que sea mas comodo trabajar con ella\n",
        "    return np.array(losses)\n"
      ]
    },
    {
      "cell_type": "code",
      "execution_count": 24,
      "id": "292f5ea4",
      "metadata": {
        "id": "292f5ea4"
      },
      "outputs": [],
      "source": [
        "# Controlamos si queremos realizar el hyperparameater tuning o no\n",
        "if SKIP_HYPERPARAMTER_TUNING is False:\n",
        "\n",
        "    # Para controlar que parametros ya hemos explorado y queremos saltar\n",
        "    already_explored_parameters = [\n",
        "        # Embedding dimension, learning rate, margin\n",
        "        (2, 0.0001, 0.01),\n",
        "        (2, 0.0001, 1),\n",
        "        (3, 0.0001),\n",
        "    ]\n",
        "\n",
        "    # Parametros que queremos mover\n",
        "    #margin_values = [0.01, 0.1, 1.0]\n",
        "    # TODO -- volver a poner todos los valores\n",
        "    margin_values = [1.0]\n",
        "    learning_rate_values = [0.0001, 0.001, 0.01]\n",
        "    embedding_dimension_values = [2, 3, 4]\n",
        "    \n",
        "    # Parametros que fijamos de antemano\n",
        "    epochs = HYPERPARAMETER_TUNING_EPOCHS\n",
        "    \n",
        "    # Llevamos la cuenta de los mejores parametros y el mejor error encontrados hasta\n",
        "    # el momento\n",
        "    best_loss = None\n",
        "    best_parameters = {\n",
        "        \"embedding_dimension\": None,\n",
        "        \"lr\": None,\n",
        "        \"margin\": None\n",
        "    }\n",
        "    \n",
        "    # Exploramos las combinaciones de parametros\n",
        "    for margin in margin_values:\n",
        "        for learning_rate in learning_rate_values:\n",
        "            for embedding_dimension in embedding_dimension_values:\n",
        "        \n",
        "                print(f\"Optimizando para margin: {margin}, lr: {learning_rate}, embedding_dim: {embedding_dimension}\")\n",
        "\n",
        "                # Comprobamos si tenemos que saltarnos el calculo de algun valor\n",
        "                # porque ya se haya hecho\n",
        "                if (embedding_dimension, learning_rate, margin) in already_explored_parameters:\n",
        "                    print(\"\\tSaltando este calculo porque ya se realizo\")\n",
        "                    continue\n",
        "                \n",
        "                # Definimos el modelo que queremos optimizar\n",
        "                net = ResNet18(embedding_dimension)\n",
        "                \n",
        "                # En este caso, al no estar trabajando con los minibatches\n",
        "                # (los usamos directamente como nos los da pytorch), no tenemos\n",
        "                # que manipular los tensores\n",
        "                net.set_permute(False)\n",
        "                \n",
        "                parameters = dict()\n",
        "                parameters[\"epochs\"] = epochs\n",
        "                parameters[\"lr\"] = learning_rate\n",
        "                parameters[\"criterion\"] = BatchHardTripletLoss(margin)\n",
        "                logger = SilentLogger()\n",
        "    \n",
        "                # Usamos nuestra propia funcion de cross validation para validar el modelo\n",
        "                losses = custom_cross_validation(net, parameters, train_dataset, k = NUMBER_OF_FOLDS) \n",
        "                print(f\"El loss conseguido es {losses.mean()}\")\n",
        "                print(\"\")\n",
        "            \n",
        "                # Comprobamos si hemos mejorado la funcion de perdida\n",
        "                # En cuyo caso, actualizamos nuestra estructura de datos y, sobre todo, mostramos\n",
        "                # por pantalla los nuevos mejores parametros\n",
        "                basic_condition = math.isnan(losses.mean()) is False             # Si es NaN no entramos al if\n",
        "                enter_condition = best_loss is None or losses.mean() < best_loss # Entramos al if si mejoramos la perdida\n",
        "                compound_condition = basic_condition and enter_condition\n",
        "                if compound_condition:\n",
        "                \n",
        "                    # Actualizamos nuestra estructura de datos\n",
        "                    best_loss = losses.mean()\n",
        "                    best_parameters = {\n",
        "                        \"embedding_dimension\": embedding_dimension,\n",
        "                        \"lr\": learning_rate,\n",
        "                        \"margin\": margin,\n",
        "                    }\n",
        "            \n",
        "                    # Mostramos el cambio encontrado\n",
        "                    print(\"==> ENCONTRADOS NUEVOS MEJORES PARAMETROS\")\n",
        "                    print(f\"Mejores parametros: {best_parameters}\")\n",
        "                    print(f\"Mejor loss: {best_loss}\")\n",
        "            \n",
        "                \n"
      ]
    },
    {
      "cell_type": "markdown",
      "id": "3e1ee8ba",
      "metadata": {
        "id": "3e1ee8ba"
      },
      "source": [
        "## Entrenamiento online"
      ]
    },
    {
      "cell_type": "code",
      "execution_count": 25,
      "id": "d7a2afd9",
      "metadata": {
        "id": "d7a2afd9",
        "colab": {
          "base_uri": "https://localhost:8080/"
        },
        "outputId": "fcf9fe08-d6c5-4c32-ff33-bb496589d238"
      },
      "outputs": [
        {
          "output_type": "stream",
          "name": "stdout",
          "text": [
            "LightModel(\n",
            "  (conv1): Conv2d(1, 4, kernel_size=(3, 3), stride=(1, 1))\n",
            "  (conv2): Conv2d(4, 8, kernel_size=(3, 3), stride=(1, 1))\n",
            "  (conv3): Conv2d(8, 16, kernel_size=(3, 3), stride=(1, 1))\n",
            "  (conv4): Conv2d(16, 32, kernel_size=(3, 3), stride=(1, 1))\n",
            "  (fc): Linear(in_features=3200, out_features=2, bias=True)\n",
            ")\n"
          ]
        }
      ],
      "source": [
        "net = LightModel(EMBEDDING_DIMENSION)\n",
        "\n",
        "# En este caso, al no estar trabajando con los minibatches\n",
        "# (los usamos directamente como nos los da pytorch), no tenemos\n",
        "# que manipular los tensores\n",
        "net.set_permute(False)\n",
        "\n",
        "# Parameters of the training\n",
        "parameters = dict()\n",
        "parameters[\"epochs\"] = TRAINING_EPOCHS\n",
        "parameters[\"lr\"] = ONLINE_LEARNING_RATE\n",
        "\n",
        "# We use the loss function that depends on the global parameter BATCH_TRIPLET_LOSS_FUNCTION\n",
        "parameters[\"criterion\"] = batch_loss_function\n",
        "\n",
        "# Definimos el logger que queremos para el entrenamiento\n",
        "logger = TripletLoggerOnline(\n",
        "    net = net,\n",
        "    iterations = -1,\n",
        "    loss_func = parameters[\"criterion\"],\n",
        "    train_percentage = 0.01,\n",
        "    validation_percentage = 1.0,\n",
        ")\n",
        "\n",
        "print(net)"
      ]
    },
    {
      "cell_type": "code",
      "execution_count": 26,
      "id": "aa722a06",
      "metadata": {
        "id": "aa722a06",
        "colab": {
          "base_uri": "https://localhost:8080/",
          "height": 415
        },
        "outputId": "9d8172fc-b570-4a14-fd09-a95c2f6024ab"
      },
      "outputs": [
        {
          "output_type": "stream",
          "name": "stdout",
          "text": [
            "==> Training on device cuda:0\n",
            "\n"
          ]
        },
        {
          "output_type": "error",
          "ename": "IndexError",
          "evalue": "ignored",
          "traceback": [
            "\u001b[0;31m---------------------------------------------------------------------------\u001b[0m",
            "\u001b[0;31mIndexError\u001b[0m                                Traceback (most recent call last)",
            "\u001b[0;32m<ipython-input-26-6be2c6a5e290>\u001b[0m in \u001b[0;36m<module>\u001b[0;34m()\u001b[0m\n\u001b[1;32m     17\u001b[0m         \u001b[0mname\u001b[0m \u001b[0;34m=\u001b[0m \u001b[0;34m\"SiameseNetworkOnline\"\u001b[0m\u001b[0;34m,\u001b[0m\u001b[0;34m\u001b[0m\u001b[0;34m\u001b[0m\u001b[0m\n\u001b[1;32m     18\u001b[0m         \u001b[0mlogger\u001b[0m \u001b[0;34m=\u001b[0m \u001b[0mlogger\u001b[0m\u001b[0;34m,\u001b[0m\u001b[0;34m\u001b[0m\u001b[0;34m\u001b[0m\u001b[0m\n\u001b[0;32m---> 19\u001b[0;31m         \u001b[0msnapshot_iterations\u001b[0m \u001b[0;34m=\u001b[0m \u001b[0;32mNone\u001b[0m\u001b[0;34m\u001b[0m\u001b[0;34m\u001b[0m\u001b[0m\n\u001b[0m\u001b[1;32m     20\u001b[0m     ))\n\u001b[1;32m     21\u001b[0m \u001b[0;34m\u001b[0m\u001b[0m\n",
            "\u001b[0;32m/content/core.py\u001b[0m in \u001b[0;36mtrain_model_online\u001b[0;34m(net, path, parameters, train_loader, validation_loader, name, logger, snapshot_iterations)\u001b[0m\n\u001b[1;32m    276\u001b[0m             \u001b[0;31m# Forward\u001b[0m\u001b[0;34m\u001b[0m\u001b[0;34m\u001b[0m\u001b[0;34m\u001b[0m\u001b[0m\n\u001b[1;32m    277\u001b[0m             \u001b[0moutputs\u001b[0m \u001b[0;34m=\u001b[0m \u001b[0mnet\u001b[0m\u001b[0;34m(\u001b[0m\u001b[0mimgs\u001b[0m\u001b[0;34m.\u001b[0m\u001b[0mto\u001b[0m\u001b[0;34m(\u001b[0m\u001b[0mdevice\u001b[0m\u001b[0;34m)\u001b[0m\u001b[0;34m)\u001b[0m\u001b[0;34m\u001b[0m\u001b[0;34m\u001b[0m\u001b[0m\n\u001b[0;32m--> 278\u001b[0;31m             \u001b[0mloss\u001b[0m \u001b[0;34m=\u001b[0m \u001b[0mcriterion\u001b[0m\u001b[0;34m(\u001b[0m\u001b[0moutputs\u001b[0m\u001b[0;34m,\u001b[0m \u001b[0mlabels\u001b[0m\u001b[0;34m.\u001b[0m\u001b[0mto\u001b[0m\u001b[0;34m(\u001b[0m\u001b[0mdevice\u001b[0m\u001b[0;34m)\u001b[0m\u001b[0;34m)\u001b[0m\u001b[0;34m\u001b[0m\u001b[0;34m\u001b[0m\u001b[0m\n\u001b[0m\u001b[1;32m    279\u001b[0m \u001b[0;34m\u001b[0m\u001b[0m\n\u001b[1;32m    280\u001b[0m             \u001b[0;31m# Backward + Optimize\u001b[0m\u001b[0;34m\u001b[0m\u001b[0;34m\u001b[0m\u001b[0;34m\u001b[0m\u001b[0m\n",
            "\u001b[0;32m/usr/local/lib/python3.7/dist-packages/torch/nn/modules/module.py\u001b[0m in \u001b[0;36m_call_impl\u001b[0;34m(self, *input, **kwargs)\u001b[0m\n\u001b[1;32m   1100\u001b[0m         if not (self._backward_hooks or self._forward_hooks or self._forward_pre_hooks or _global_backward_hooks\n\u001b[1;32m   1101\u001b[0m                 or _global_forward_hooks or _global_forward_pre_hooks):\n\u001b[0;32m-> 1102\u001b[0;31m             \u001b[0;32mreturn\u001b[0m \u001b[0mforward_call\u001b[0m\u001b[0;34m(\u001b[0m\u001b[0;34m*\u001b[0m\u001b[0minput\u001b[0m\u001b[0;34m,\u001b[0m \u001b[0;34m**\u001b[0m\u001b[0mkwargs\u001b[0m\u001b[0;34m)\u001b[0m\u001b[0;34m\u001b[0m\u001b[0;34m\u001b[0m\u001b[0m\n\u001b[0m\u001b[1;32m   1103\u001b[0m         \u001b[0;31m# Do not call functions when jit is used\u001b[0m\u001b[0;34m\u001b[0m\u001b[0;34m\u001b[0m\u001b[0;34m\u001b[0m\u001b[0m\n\u001b[1;32m   1104\u001b[0m         \u001b[0mfull_backward_hooks\u001b[0m\u001b[0;34m,\u001b[0m \u001b[0mnon_full_backward_hooks\u001b[0m \u001b[0;34m=\u001b[0m \u001b[0;34m[\u001b[0m\u001b[0;34m]\u001b[0m\u001b[0;34m,\u001b[0m \u001b[0;34m[\u001b[0m\u001b[0;34m]\u001b[0m\u001b[0;34m\u001b[0m\u001b[0;34m\u001b[0m\u001b[0m\n",
            "\u001b[0;32m/content/loss_functions.py\u001b[0m in \u001b[0;36mforward\u001b[0;34m(self, embeddings, labels)\u001b[0m\n\u001b[1;32m    279\u001b[0m \u001b[0;34m\u001b[0m\u001b[0m\n\u001b[1;32m    280\u001b[0m             \u001b[0mworst_positive_idx\u001b[0m \u001b[0;34m=\u001b[0m \u001b[0mpositives\u001b[0m\u001b[0;34m[\u001b[0m\u001b[0mtorch\u001b[0m\u001b[0;34m.\u001b[0m\u001b[0margmax\u001b[0m\u001b[0;34m(\u001b[0m\u001b[0mpositive_distances\u001b[0m\u001b[0;34m)\u001b[0m\u001b[0;34m]\u001b[0m\u001b[0;34m\u001b[0m\u001b[0;34m\u001b[0m\u001b[0m\n\u001b[0;32m--> 281\u001b[0;31m             \u001b[0mworst_negative_idx\u001b[0m \u001b[0;34m=\u001b[0m \u001b[0mnegatives\u001b[0m\u001b[0;34m[\u001b[0m\u001b[0mtorch\u001b[0m\u001b[0;34m.\u001b[0m\u001b[0margmin\u001b[0m\u001b[0;34m(\u001b[0m\u001b[0mnegative_distances\u001b[0m\u001b[0;34m)\u001b[0m\u001b[0;34m]\u001b[0m\u001b[0;34m\u001b[0m\u001b[0;34m\u001b[0m\u001b[0m\n\u001b[0m\u001b[1;32m    282\u001b[0m \u001b[0;34m\u001b[0m\u001b[0m\n\u001b[1;32m    283\u001b[0m             \u001b[0mworst_positive\u001b[0m \u001b[0;34m=\u001b[0m \u001b[0membeddings\u001b[0m\u001b[0;34m[\u001b[0m\u001b[0mworst_positive_idx\u001b[0m\u001b[0;34m]\u001b[0m\u001b[0;34m\u001b[0m\u001b[0;34m\u001b[0m\u001b[0m\n",
            "\u001b[0;31mIndexError\u001b[0m: argmin(): Expected reduction dim to be specified for input.numel() == 0."
          ]
        }
      ],
      "source": [
        "import torch\n",
        "\n",
        "# Entrenamos solo si lo especifica\n",
        "# el parametro que controla el uso de cache\n",
        "if USE_CACHED_MODEL is False:\n",
        "\n",
        "    # Para saber cuanto tarda\n",
        "    ts = time.time()\n",
        "\n",
        "    torch.jit.script(\n",
        "    training_history = train_model_online(\n",
        "        net = net,\n",
        "        path = os.path.join(BASE_PATH, \"tmp\"),\n",
        "        parameters = parameters,\n",
        "        train_loader = train_loader,\n",
        "        validation_loader = validation_loader,\n",
        "        name = \"SiameseNetworkOnline\",\n",
        "        logger = logger,\n",
        "        snapshot_iterations = None\n",
        "    ))\n",
        "\n",
        "    # Calculamos cuanto ha tardado\n",
        "    te = time.time()\n",
        "    print(f\"Ha tardado {te - ts}\")\n",
        "    \n",
        "    # Actualizamos la cache del modelo\n",
        "    filesystem.save_model(net, MODEL_CACHE_FOLDER, \"online_model_cached\")\n",
        "    \n",
        "# Nos saltamos el entrenamiento y cargamos el modelo desde la cache\n",
        "else:\n",
        "       \n",
        "    net = filesystem.load_model(\n",
        "        os.path.join(MODEL_CACHE_FOLDER, \"online_model_cached\"), \n",
        "        lambda: ResNet18(EMBEDDING_DIMENSION)\n",
        "    )\n",
        "    \n",
        "    # Tenemos que cargar la red en la memoria correspondiente\n",
        "    device = core.get_device()\n",
        "    net.to(device)\n",
        "    \n",
        "# A partir de este punto no hacemos entrenamiento\n",
        "# asi que ponemos la red en modo evaluacion para que \n",
        "# no vaya almacenando los gradientes\n",
        "net.eval()"
      ]
    },
    {
      "cell_type": "code",
      "execution_count": null,
      "id": "3ae35995",
      "metadata": {
        "id": "3ae35995"
      },
      "outputs": [],
      "source": [
        "# Entrenamos solo si lo especifica\n",
        "# el parametro que controla el uso de cache\n",
        "if USE_CACHED_MODEL is False:\n",
        "        \n",
        "    # Al principio tenemos un pico de error que hace \n",
        "    # que la grafica no sea legible. Ignoramos las primeras metricas\n",
        "    # de error para que la grafica sea legible\n",
        "    cut = 5\n",
        "    training_history[\"loss\"] = training_history[\"loss\"][cut:]\n",
        "    training_history[\"val_loss\"] = training_history[\"val_loss\"][cut:]\n",
        "\n",
        "    show_learning_curve(training_history)"
      ]
    },
    {
      "cell_type": "markdown",
      "id": "d68b8fef",
      "metadata": {
        "id": "d68b8fef"
      },
      "source": [
        "## Evaluación del modelo\n",
        "\n",
        "- Mostramos algunas métricas fundamentales sobre el conjunto de"
      ]
    },
    {
      "cell_type": "code",
      "execution_count": null,
      "id": "5210628c",
      "metadata": {
        "id": "5210628c"
      },
      "outputs": [],
      "source": [
        "with torch.no_grad():\n",
        "    net.set_permute(False)\n",
        "    \n",
        "    core.test_model_online(net, test_loader, parameters[\"criterion\"], online = True)\n",
        "    \n",
        "    net.set_permute(True)"
      ]
    },
    {
      "cell_type": "code",
      "execution_count": null,
      "id": "f2e58d6f",
      "metadata": {
        "id": "f2e58d6f",
        "scrolled": true
      },
      "outputs": [],
      "source": [
        "with torch.no_grad():\n",
        "    try_to_clean_memory()\n",
        "    classifier = EmbeddingToClassifier(net, k = NUMBER_NEIGHBOURS, data_loader = train_loader, embedding_dimension = EMBEDDING_DIMENSION)"
      ]
    },
    {
      "cell_type": "markdown",
      "id": "e8ad35f7",
      "metadata": {
        "id": "e8ad35f7"
      },
      "source": [
        "Evaluamos este clasificador en un conjunto pequeño de imágenes de test. Más adelante tomamos métricas de dicho clasificador:"
      ]
    },
    {
      "cell_type": "code",
      "execution_count": null,
      "id": "46acde43",
      "metadata": {
        "id": "46acde43"
      },
      "outputs": [],
      "source": [
        "with torch.no_grad():\n",
        "    # Hacemos esto y no `in test_dataset[:max_iterations]`\n",
        "    # para no tener que tomar todo el dataset y quedarnos con\n",
        "    # una parte de el, que es un proceso mucho mas lento que usar\n",
        "    # el iterador que da `in test_dataset` y parar con el contador\n",
        "    counter = 0\n",
        "    max_iterations = 20\n",
        "    \n",
        "    for img, img_class in test_dataset:\n",
        "        predicted_class = classifier.predict(img)\n",
        "        print(f\"Etiqueta verdadera: {img_class}, etiqueta predicha: {predicted_class[0]}\")\n",
        "    \n",
        "        # Actualizamos el contador\n",
        "        counter += 1\n",
        "        if counter == max_iterations: break"
      ]
    },
    {
      "cell_type": "markdown",
      "id": "58fa44a0",
      "metadata": {
        "id": "58fa44a0"
      },
      "source": [
        "## Plot del embedding\n",
        "\n",
        "- Aprovechamos el cálculo realizado en la clase que realiza la adaptación a clasificación para mostrar gráficamente el embedding calculado\n",
        "- Esta gráfica solo la visualizamos cuando el embedding tiene dimensión 2"
      ]
    },
    {
      "cell_type": "code",
      "execution_count": null,
      "id": "8ab56fa9",
      "metadata": {
        "id": "8ab56fa9"
      },
      "outputs": [],
      "source": [
        "with torch.no_grad():\n",
        "    classifier.scatter_plot()"
      ]
    },
    {
      "cell_type": "markdown",
      "id": "83cea66d",
      "metadata": {
        "id": "83cea66d"
      },
      "source": [
        "## Evaluación del clasificador obtenido\n",
        "\n",
        "- Ahora que hemos adaptado el modelo para usarlo como clasificador, podemos consultar ciertas métricas de clasificación"
      ]
    },
    {
      "cell_type": "code",
      "execution_count": null,
      "id": "27b4ae22",
      "metadata": {
        "id": "27b4ae22"
      },
      "outputs": [],
      "source": [
        "with torch.no_grad():\n",
        "    try_to_clean_memory()\n",
        "    classifier.embedder.set_permute(False)\n",
        "    \n",
        "    metrics = evaluate_model(classifier, train_loader, test_loader)\n",
        "    pprint(metrics)\n",
        "    \n",
        "    classifier.embedder.set_permute(True)"
      ]
    }
  ],
  "metadata": {
    "accelerator": "GPU",
    "colab": {
      "collapsed_sections": [],
      "name": "Notebook.ipynb",
      "provenance": [],
      "toc_visible": true
    },
    "kernelspec": {
      "display_name": "Python 3 (ipykernel)",
      "language": "python",
      "name": "python3"
    },
    "language_info": {
      "codemirror_mode": {
        "name": "ipython",
        "version": 3
      },
      "file_extension": ".py",
      "mimetype": "text/x-python",
      "name": "python",
      "nbconvert_exporter": "python",
      "pygments_lexer": "ipython3",
      "version": "3.10.2"
    }
  },
  "nbformat": 4,
  "nbformat_minor": 5
}